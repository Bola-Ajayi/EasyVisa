{
 "cells": [
  {
   "cell_type": "markdown",
   "id": "empty-shanghai",
   "metadata": {
    "id": "empty-shanghai"
   },
   "source": [
    "# EasyVisa Project\n",
    "\n",
    "## Context:\n",
    "\n",
    "Business communities in the United States are facing high demand for human resources, but one of the constant challenges is identifying and attracting the right talent, which is perhaps the most important element in remaining competitive. Companies in the United States look for hard-working, talented, and qualified individuals both locally as well as abroad.\n",
    "\n",
    "The Immigration and Nationality Act (INA) of the US permits foreign workers to come to the United States to work on either a temporary or permanent basis. The act also protects US workers against adverse impacts on their wages or working conditions by ensuring US employers' compliance with statutory requirements when they hire foreign workers to fill workforce shortages. The immigration programs are administered by the Office of Foreign Labor Certification (OFLC).\n",
    "\n",
    "OFLC processes job certification applications for employers seeking to bring foreign workers into the United States and grants certifications in those cases where employers can demonstrate that there are not sufficient US workers available to perform the work at wages that meet or exceed the wage paid for the occupation in the area of intended employment.\n",
    "\n",
    "## Objective:\n",
    "\n",
    "In FY 2016, the OFLC processed 775,979 employer applications for 1,699,957 positions for temporary and permanent labor certifications. This was a nine percent increase in the overall number of processed applications from the previous year. The process of reviewing every case is becoming a tedious task as the number of applicants is increasing every year.\n",
    "\n",
    "The increasing number of applicants every year calls for a Machine Learning based solution that can help in shortlisting the candidates having higher chances of VISA approval. OFLC has hired the firm EasyVisa for data-driven solutions. You as a data  scientist at EasyVisa have to analyze the data provided and, with the help of a classification model:\n",
    "\n",
    "* Facilitate the process of visa approvals.\n",
    "* Recommend a suitable profile for the applicants for whom the visa should be certified or denied based on the drivers that significantly influence the case status. \n",
    "\n",
    "## Data Description\n",
    "\n",
    "The data contains the different attributes of employee and the employer. The detailed data dictionary is given below.\n",
    "\n",
    "* case_id: ID of each visa application\n",
    "* continent: Information of continent the employee\n",
    "* education_of_employee: Information of education of the employee\n",
    "* has_job_experience: Does the employee has any job experience? Y= Yes; N = No\n",
    "* requires_job_training: Does the employee require any job training? Y = Yes; N = No \n",
    "* no_of_employees: Number of employees in the employer's company\n",
    "* yr_of_estab: Year in which the employer's company was established\n",
    "* region_of_employment: Information of foreign worker's intended region of employment in the US.\n",
    "* prevailing_wage:  Average wage paid to similarly employed workers in a specific occupation in the area of intended employment. The purpose of the prevailing wage is to ensure that the foreign worker is not underpaid compared to other workers offering the same or similar service in the same area of employment. \n",
    "* unit_of_wage: Unit of prevailing wage. Values include Hourly, Weekly, Monthly, and Yearly.\n",
    "* full_time_position: Is the position of work full-time? Y = Full Time Position; N = Part Time Position\n",
    "* case_status:  Flag indicating if the Visa was certified or denied"
   ]
  },
  {
   "cell_type": "markdown",
   "id": "0202dc63",
   "metadata": {
    "id": "0202dc63"
   },
   "source": [
    "### **Please read the instructions carefully before starting the project.** \n",
    "This is a commented Jupyter IPython Notebook file in which all the instructions and tasks to be performed are mentioned. \n",
    "* Blanks '_______' are provided in the notebook that \n",
    "needs to be filled with an appropriate code to get the correct result. With every '_______' blank, there is a comment that briefly describes what needs to be filled in the blank space. \n",
    "* Identify the task to be performed correctly, and only then proceed to write the required code.\n",
    "* Fill the code wherever asked by the commented lines like \"# write your code here\" or \"# complete the code\". Running incomplete code may throw error.\n",
    "* Please run the codes in a sequential manner from the beginning to avoid any unnecessary errors.\n",
    "* Add the results/observations (wherever mentioned) derived from the analysis in the presentation and submit the same."
   ]
  },
  {
   "cell_type": "markdown",
   "id": "c1cd4628",
   "metadata": {
    "id": "c1cd4628"
   },
   "source": [
    "### Let us start by importing necessary libraries and data"
   ]
  },
  {
   "cell_type": "code",
   "execution_count": 1,
   "id": "be4cc783",
   "metadata": {},
   "outputs": [
    {
     "name": "stdout",
     "output_type": "stream",
     "text": [
      "Requirement already satisfied: xgboost in c:\\anaconda\\lib\\site-packages (1.5.1)\n",
      "Requirement already satisfied: numpy in c:\\anaconda\\lib\\site-packages (from xgboost) (1.20.3)\n",
      "Requirement already satisfied: scipy in c:\\anaconda\\lib\\site-packages (from xgboost) (1.7.1)\n"
     ]
    }
   ],
   "source": [
    "# install XgBoost\n",
    "!pip install xgboost"
   ]
  },
  {
   "cell_type": "code",
   "execution_count": 2,
   "id": "canadian-maple",
   "metadata": {
    "colab": {
     "base_uri": "https://localhost:8080/",
     "height": 554
    },
    "id": "canadian-maple",
    "outputId": "2e2d6b3b-6f98-418d-b22a-2a07c2294b84"
   },
   "outputs": [],
   "source": [
    "import warnings\n",
    "\n",
    "warnings.filterwarnings(\"ignore\")\n",
    "\n",
    "# Libraries to help with reading and manipulating data\n",
    "import numpy as np\n",
    "import pandas as pd\n",
    "\n",
    "# Library to split data\n",
    "from sklearn.model_selection import train_test_split\n",
    "\n",
    "# libaries to help with data visualization\n",
    "import matplotlib.pyplot as plt\n",
    "import seaborn as sns\n",
    "\n",
    "# Removes the limit for the number of displayed columns\n",
    "pd.set_option(\"display.max_columns\", None)\n",
    "# Sets the limit for the number of displayed rows\n",
    "pd.set_option(\"display.max_rows\", 100)\n",
    "\n",
    "\n",
    "# Libraries different ensemble classifiers\n",
    "from sklearn.ensemble import (\n",
    "    BaggingClassifier,\n",
    "    RandomForestClassifier,\n",
    "    AdaBoostClassifier,\n",
    "    GradientBoostingClassifier,\n",
    "    StackingClassifier,\n",
    ")\n",
    "\n",
    "from xgboost import XGBClassifier\n",
    "from sklearn.tree import DecisionTreeClassifier\n",
    "\n",
    "# Libraries to get different metric scores\n",
    "from sklearn import metrics\n",
    "from sklearn.metrics import (\n",
    "    confusion_matrix,\n",
    "    accuracy_score,\n",
    "    precision_score,\n",
    "    recall_score,\n",
    "    f1_score,\n",
    ")\n",
    "\n",
    "# To tune different models\n",
    "from sklearn.model_selection import GridSearchCV"
   ]
  },
  {
   "cell_type": "markdown",
   "id": "thorough-passion",
   "metadata": {
    "id": "thorough-passion"
   },
   "source": [
    "## Import Dataset"
   ]
  },
  {
   "cell_type": "code",
   "execution_count": 3,
   "id": "alleged-teaching",
   "metadata": {
    "id": "alleged-teaching"
   },
   "outputs": [],
   "source": [
    "visa = pd.read_csv('EasyVisa.csv') ##  Fill the blank to read the data"
   ]
  },
  {
   "cell_type": "code",
   "execution_count": 4,
   "id": "falling-annual",
   "metadata": {
    "id": "falling-annual"
   },
   "outputs": [],
   "source": [
    "# copying data to another variable to avoid any changes to original data\n",
    "data = visa.copy()"
   ]
  },
  {
   "cell_type": "markdown",
   "id": "aboriginal-wrist",
   "metadata": {
    "id": "aboriginal-wrist"
   },
   "source": [
    "### View the first and last 5 rows of the dataset"
   ]
  },
  {
   "cell_type": "code",
   "execution_count": 5,
   "id": "judicial-lease",
   "metadata": {
    "id": "judicial-lease"
   },
   "outputs": [
    {
     "data": {
      "text/html": [
       "<div>\n",
       "<style scoped>\n",
       "    .dataframe tbody tr th:only-of-type {\n",
       "        vertical-align: middle;\n",
       "    }\n",
       "\n",
       "    .dataframe tbody tr th {\n",
       "        vertical-align: top;\n",
       "    }\n",
       "\n",
       "    .dataframe thead th {\n",
       "        text-align: right;\n",
       "    }\n",
       "</style>\n",
       "<table border=\"1\" class=\"dataframe\">\n",
       "  <thead>\n",
       "    <tr style=\"text-align: right;\">\n",
       "      <th></th>\n",
       "      <th>case_id</th>\n",
       "      <th>continent</th>\n",
       "      <th>education_of_employee</th>\n",
       "      <th>has_job_experience</th>\n",
       "      <th>requires_job_training</th>\n",
       "      <th>no_of_employees</th>\n",
       "      <th>yr_of_estab</th>\n",
       "      <th>region_of_employment</th>\n",
       "      <th>prevailing_wage</th>\n",
       "      <th>unit_of_wage</th>\n",
       "      <th>full_time_position</th>\n",
       "      <th>case_status</th>\n",
       "    </tr>\n",
       "  </thead>\n",
       "  <tbody>\n",
       "    <tr>\n",
       "      <th>0</th>\n",
       "      <td>EZYV01</td>\n",
       "      <td>Asia</td>\n",
       "      <td>High School</td>\n",
       "      <td>N</td>\n",
       "      <td>N</td>\n",
       "      <td>14513</td>\n",
       "      <td>2007</td>\n",
       "      <td>West</td>\n",
       "      <td>592.2029</td>\n",
       "      <td>Hour</td>\n",
       "      <td>Y</td>\n",
       "      <td>Denied</td>\n",
       "    </tr>\n",
       "    <tr>\n",
       "      <th>1</th>\n",
       "      <td>EZYV02</td>\n",
       "      <td>Asia</td>\n",
       "      <td>Master's</td>\n",
       "      <td>Y</td>\n",
       "      <td>N</td>\n",
       "      <td>2412</td>\n",
       "      <td>2002</td>\n",
       "      <td>Northeast</td>\n",
       "      <td>83425.6500</td>\n",
       "      <td>Year</td>\n",
       "      <td>Y</td>\n",
       "      <td>Certified</td>\n",
       "    </tr>\n",
       "    <tr>\n",
       "      <th>2</th>\n",
       "      <td>EZYV03</td>\n",
       "      <td>Asia</td>\n",
       "      <td>Bachelor's</td>\n",
       "      <td>N</td>\n",
       "      <td>Y</td>\n",
       "      <td>44444</td>\n",
       "      <td>2008</td>\n",
       "      <td>West</td>\n",
       "      <td>122996.8600</td>\n",
       "      <td>Year</td>\n",
       "      <td>Y</td>\n",
       "      <td>Denied</td>\n",
       "    </tr>\n",
       "    <tr>\n",
       "      <th>3</th>\n",
       "      <td>EZYV04</td>\n",
       "      <td>Asia</td>\n",
       "      <td>Bachelor's</td>\n",
       "      <td>N</td>\n",
       "      <td>N</td>\n",
       "      <td>98</td>\n",
       "      <td>1897</td>\n",
       "      <td>West</td>\n",
       "      <td>83434.0300</td>\n",
       "      <td>Year</td>\n",
       "      <td>Y</td>\n",
       "      <td>Denied</td>\n",
       "    </tr>\n",
       "    <tr>\n",
       "      <th>4</th>\n",
       "      <td>EZYV05</td>\n",
       "      <td>Africa</td>\n",
       "      <td>Master's</td>\n",
       "      <td>Y</td>\n",
       "      <td>N</td>\n",
       "      <td>1082</td>\n",
       "      <td>2005</td>\n",
       "      <td>South</td>\n",
       "      <td>149907.3900</td>\n",
       "      <td>Year</td>\n",
       "      <td>Y</td>\n",
       "      <td>Certified</td>\n",
       "    </tr>\n",
       "  </tbody>\n",
       "</table>\n",
       "</div>"
      ],
      "text/plain": [
       "  case_id continent education_of_employee has_job_experience  \\\n",
       "0  EZYV01      Asia           High School                  N   \n",
       "1  EZYV02      Asia              Master's                  Y   \n",
       "2  EZYV03      Asia            Bachelor's                  N   \n",
       "3  EZYV04      Asia            Bachelor's                  N   \n",
       "4  EZYV05    Africa              Master's                  Y   \n",
       "\n",
       "  requires_job_training  no_of_employees  yr_of_estab region_of_employment  \\\n",
       "0                     N            14513         2007                 West   \n",
       "1                     N             2412         2002            Northeast   \n",
       "2                     Y            44444         2008                 West   \n",
       "3                     N               98         1897                 West   \n",
       "4                     N             1082         2005                South   \n",
       "\n",
       "   prevailing_wage unit_of_wage full_time_position case_status  \n",
       "0         592.2029         Hour                  Y      Denied  \n",
       "1       83425.6500         Year                  Y   Certified  \n",
       "2      122996.8600         Year                  Y      Denied  \n",
       "3       83434.0300         Year                  Y      Denied  \n",
       "4      149907.3900         Year                  Y   Certified  "
      ]
     },
     "execution_count": 5,
     "metadata": {},
     "output_type": "execute_result"
    }
   ],
   "source": [
    "##  Complete the code to view top 5 rows of the data\n",
    "data.head() "
   ]
  },
  {
   "cell_type": "code",
   "execution_count": 6,
   "id": "descending-david",
   "metadata": {
    "id": "descending-david"
   },
   "outputs": [
    {
     "data": {
      "text/html": [
       "<div>\n",
       "<style scoped>\n",
       "    .dataframe tbody tr th:only-of-type {\n",
       "        vertical-align: middle;\n",
       "    }\n",
       "\n",
       "    .dataframe tbody tr th {\n",
       "        vertical-align: top;\n",
       "    }\n",
       "\n",
       "    .dataframe thead th {\n",
       "        text-align: right;\n",
       "    }\n",
       "</style>\n",
       "<table border=\"1\" class=\"dataframe\">\n",
       "  <thead>\n",
       "    <tr style=\"text-align: right;\">\n",
       "      <th></th>\n",
       "      <th>case_id</th>\n",
       "      <th>continent</th>\n",
       "      <th>education_of_employee</th>\n",
       "      <th>has_job_experience</th>\n",
       "      <th>requires_job_training</th>\n",
       "      <th>no_of_employees</th>\n",
       "      <th>yr_of_estab</th>\n",
       "      <th>region_of_employment</th>\n",
       "      <th>prevailing_wage</th>\n",
       "      <th>unit_of_wage</th>\n",
       "      <th>full_time_position</th>\n",
       "      <th>case_status</th>\n",
       "    </tr>\n",
       "  </thead>\n",
       "  <tbody>\n",
       "    <tr>\n",
       "      <th>25475</th>\n",
       "      <td>EZYV25476</td>\n",
       "      <td>Asia</td>\n",
       "      <td>Bachelor's</td>\n",
       "      <td>Y</td>\n",
       "      <td>Y</td>\n",
       "      <td>2601</td>\n",
       "      <td>2008</td>\n",
       "      <td>South</td>\n",
       "      <td>77092.57</td>\n",
       "      <td>Year</td>\n",
       "      <td>Y</td>\n",
       "      <td>Certified</td>\n",
       "    </tr>\n",
       "    <tr>\n",
       "      <th>25476</th>\n",
       "      <td>EZYV25477</td>\n",
       "      <td>Asia</td>\n",
       "      <td>High School</td>\n",
       "      <td>Y</td>\n",
       "      <td>N</td>\n",
       "      <td>3274</td>\n",
       "      <td>2006</td>\n",
       "      <td>Northeast</td>\n",
       "      <td>279174.79</td>\n",
       "      <td>Year</td>\n",
       "      <td>Y</td>\n",
       "      <td>Certified</td>\n",
       "    </tr>\n",
       "    <tr>\n",
       "      <th>25477</th>\n",
       "      <td>EZYV25478</td>\n",
       "      <td>Asia</td>\n",
       "      <td>Master's</td>\n",
       "      <td>Y</td>\n",
       "      <td>N</td>\n",
       "      <td>1121</td>\n",
       "      <td>1910</td>\n",
       "      <td>South</td>\n",
       "      <td>146298.85</td>\n",
       "      <td>Year</td>\n",
       "      <td>N</td>\n",
       "      <td>Certified</td>\n",
       "    </tr>\n",
       "    <tr>\n",
       "      <th>25478</th>\n",
       "      <td>EZYV25479</td>\n",
       "      <td>Asia</td>\n",
       "      <td>Master's</td>\n",
       "      <td>Y</td>\n",
       "      <td>Y</td>\n",
       "      <td>1918</td>\n",
       "      <td>1887</td>\n",
       "      <td>West</td>\n",
       "      <td>86154.77</td>\n",
       "      <td>Year</td>\n",
       "      <td>Y</td>\n",
       "      <td>Certified</td>\n",
       "    </tr>\n",
       "    <tr>\n",
       "      <th>25479</th>\n",
       "      <td>EZYV25480</td>\n",
       "      <td>Asia</td>\n",
       "      <td>Bachelor's</td>\n",
       "      <td>Y</td>\n",
       "      <td>N</td>\n",
       "      <td>3195</td>\n",
       "      <td>1960</td>\n",
       "      <td>Midwest</td>\n",
       "      <td>70876.91</td>\n",
       "      <td>Year</td>\n",
       "      <td>Y</td>\n",
       "      <td>Certified</td>\n",
       "    </tr>\n",
       "  </tbody>\n",
       "</table>\n",
       "</div>"
      ],
      "text/plain": [
       "         case_id continent education_of_employee has_job_experience  \\\n",
       "25475  EZYV25476      Asia            Bachelor's                  Y   \n",
       "25476  EZYV25477      Asia           High School                  Y   \n",
       "25477  EZYV25478      Asia              Master's                  Y   \n",
       "25478  EZYV25479      Asia              Master's                  Y   \n",
       "25479  EZYV25480      Asia            Bachelor's                  Y   \n",
       "\n",
       "      requires_job_training  no_of_employees  yr_of_estab  \\\n",
       "25475                     Y             2601         2008   \n",
       "25476                     N             3274         2006   \n",
       "25477                     N             1121         1910   \n",
       "25478                     Y             1918         1887   \n",
       "25479                     N             3195         1960   \n",
       "\n",
       "      region_of_employment  prevailing_wage unit_of_wage full_time_position  \\\n",
       "25475                South         77092.57         Year                  Y   \n",
       "25476            Northeast        279174.79         Year                  Y   \n",
       "25477                South        146298.85         Year                  N   \n",
       "25478                 West         86154.77         Year                  Y   \n",
       "25479              Midwest         70876.91         Year                  Y   \n",
       "\n",
       "      case_status  \n",
       "25475   Certified  \n",
       "25476   Certified  \n",
       "25477   Certified  \n",
       "25478   Certified  \n",
       "25479   Certified  "
      ]
     },
     "execution_count": 6,
     "metadata": {},
     "output_type": "execute_result"
    }
   ],
   "source": [
    "##  Complete the code to view last 5 rows of the data  \n",
    "data.tail ()"
   ]
  },
  {
   "cell_type": "markdown",
   "id": "accessory-camel",
   "metadata": {
    "id": "accessory-camel"
   },
   "source": [
    "### Understand the shape of the dataset"
   ]
  },
  {
   "cell_type": "code",
   "execution_count": 7,
   "id": "regulation-elder",
   "metadata": {
    "id": "regulation-elder"
   },
   "outputs": [
    {
     "data": {
      "text/plain": [
       "(25480, 12)"
      ]
     },
     "execution_count": 7,
     "metadata": {},
     "output_type": "execute_result"
    }
   ],
   "source": [
    "##  Complete the code to view dimensions of the data\n",
    "data.shape"
   ]
  },
  {
   "cell_type": "markdown",
   "id": "de8af270",
   "metadata": {},
   "source": [
    "* The dataset has 25480 rows and 12 columns"
   ]
  },
  {
   "cell_type": "markdown",
   "id": "assigned-berkeley",
   "metadata": {
    "id": "assigned-berkeley"
   },
   "source": [
    "### Check the data types of the columns for the dataset"
   ]
  },
  {
   "cell_type": "code",
   "execution_count": 8,
   "id": "judicial-institute",
   "metadata": {
    "id": "judicial-institute"
   },
   "outputs": [
    {
     "name": "stdout",
     "output_type": "stream",
     "text": [
      "<class 'pandas.core.frame.DataFrame'>\n",
      "RangeIndex: 25480 entries, 0 to 25479\n",
      "Data columns (total 12 columns):\n",
      " #   Column                 Non-Null Count  Dtype  \n",
      "---  ------                 --------------  -----  \n",
      " 0   case_id                25480 non-null  object \n",
      " 1   continent              25480 non-null  object \n",
      " 2   education_of_employee  25480 non-null  object \n",
      " 3   has_job_experience     25480 non-null  object \n",
      " 4   requires_job_training  25480 non-null  object \n",
      " 5   no_of_employees        25480 non-null  int64  \n",
      " 6   yr_of_estab            25480 non-null  int64  \n",
      " 7   region_of_employment   25480 non-null  object \n",
      " 8   prevailing_wage        25480 non-null  float64\n",
      " 9   unit_of_wage           25480 non-null  object \n",
      " 10  full_time_position     25480 non-null  object \n",
      " 11  case_status            25480 non-null  object \n",
      "dtypes: float64(1), int64(2), object(9)\n",
      "memory usage: 2.3+ MB\n"
     ]
    }
   ],
   "source": [
    "data.info()"
   ]
  },
  {
   "cell_type": "markdown",
   "id": "5f575671",
   "metadata": {},
   "source": [
    "* `no_of_employees`, ` yr_of_estab`, and `prevailing_wage` are numeric features while the remaining features are objects.\n",
    "* There are no null values in the dataset."
   ]
  },
  {
   "cell_type": "code",
   "execution_count": 9,
   "id": "going-validation",
   "metadata": {
    "id": "going-validation"
   },
   "outputs": [
    {
     "data": {
      "text/plain": [
       "0"
      ]
     },
     "execution_count": 9,
     "metadata": {},
     "output_type": "execute_result"
    }
   ],
   "source": [
    "# checking for duplicate values\n",
    "##  Complete the code to check duplicate entries in the data\n",
    "data.duplicated().sum()  "
   ]
  },
  {
   "cell_type": "markdown",
   "id": "7bff066d",
   "metadata": {},
   "source": [
    "* There are no duplicate values in the data."
   ]
  },
  {
   "cell_type": "markdown",
   "id": "standing-horizontal",
   "metadata": {
    "id": "standing-horizontal"
   },
   "source": [
    "## Exploratory Data Analysis"
   ]
  },
  {
   "cell_type": "markdown",
   "id": "american-venue",
   "metadata": {
    "id": "american-venue"
   },
   "source": [
    "**Let's check the statistical summary of the data.**"
   ]
  },
  {
   "cell_type": "code",
   "execution_count": 10,
   "id": "premium-wagner",
   "metadata": {
    "id": "premium-wagner"
   },
   "outputs": [
    {
     "data": {
      "text/html": [
       "<div>\n",
       "<style scoped>\n",
       "    .dataframe tbody tr th:only-of-type {\n",
       "        vertical-align: middle;\n",
       "    }\n",
       "\n",
       "    .dataframe tbody tr th {\n",
       "        vertical-align: top;\n",
       "    }\n",
       "\n",
       "    .dataframe thead th {\n",
       "        text-align: right;\n",
       "    }\n",
       "</style>\n",
       "<table border=\"1\" class=\"dataframe\">\n",
       "  <thead>\n",
       "    <tr style=\"text-align: right;\">\n",
       "      <th></th>\n",
       "      <th>count</th>\n",
       "      <th>unique</th>\n",
       "      <th>top</th>\n",
       "      <th>freq</th>\n",
       "      <th>mean</th>\n",
       "      <th>std</th>\n",
       "      <th>min</th>\n",
       "      <th>25%</th>\n",
       "      <th>50%</th>\n",
       "      <th>75%</th>\n",
       "      <th>max</th>\n",
       "    </tr>\n",
       "  </thead>\n",
       "  <tbody>\n",
       "    <tr>\n",
       "      <th>case_id</th>\n",
       "      <td>25480</td>\n",
       "      <td>25480</td>\n",
       "      <td>EZYV01</td>\n",
       "      <td>1</td>\n",
       "      <td>NaN</td>\n",
       "      <td>NaN</td>\n",
       "      <td>NaN</td>\n",
       "      <td>NaN</td>\n",
       "      <td>NaN</td>\n",
       "      <td>NaN</td>\n",
       "      <td>NaN</td>\n",
       "    </tr>\n",
       "    <tr>\n",
       "      <th>continent</th>\n",
       "      <td>25480</td>\n",
       "      <td>6</td>\n",
       "      <td>Asia</td>\n",
       "      <td>16861</td>\n",
       "      <td>NaN</td>\n",
       "      <td>NaN</td>\n",
       "      <td>NaN</td>\n",
       "      <td>NaN</td>\n",
       "      <td>NaN</td>\n",
       "      <td>NaN</td>\n",
       "      <td>NaN</td>\n",
       "    </tr>\n",
       "    <tr>\n",
       "      <th>education_of_employee</th>\n",
       "      <td>25480</td>\n",
       "      <td>4</td>\n",
       "      <td>Bachelor's</td>\n",
       "      <td>10234</td>\n",
       "      <td>NaN</td>\n",
       "      <td>NaN</td>\n",
       "      <td>NaN</td>\n",
       "      <td>NaN</td>\n",
       "      <td>NaN</td>\n",
       "      <td>NaN</td>\n",
       "      <td>NaN</td>\n",
       "    </tr>\n",
       "    <tr>\n",
       "      <th>has_job_experience</th>\n",
       "      <td>25480</td>\n",
       "      <td>2</td>\n",
       "      <td>Y</td>\n",
       "      <td>14802</td>\n",
       "      <td>NaN</td>\n",
       "      <td>NaN</td>\n",
       "      <td>NaN</td>\n",
       "      <td>NaN</td>\n",
       "      <td>NaN</td>\n",
       "      <td>NaN</td>\n",
       "      <td>NaN</td>\n",
       "    </tr>\n",
       "    <tr>\n",
       "      <th>requires_job_training</th>\n",
       "      <td>25480</td>\n",
       "      <td>2</td>\n",
       "      <td>N</td>\n",
       "      <td>22525</td>\n",
       "      <td>NaN</td>\n",
       "      <td>NaN</td>\n",
       "      <td>NaN</td>\n",
       "      <td>NaN</td>\n",
       "      <td>NaN</td>\n",
       "      <td>NaN</td>\n",
       "      <td>NaN</td>\n",
       "    </tr>\n",
       "    <tr>\n",
       "      <th>no_of_employees</th>\n",
       "      <td>25480.0</td>\n",
       "      <td>NaN</td>\n",
       "      <td>NaN</td>\n",
       "      <td>NaN</td>\n",
       "      <td>5667.04321</td>\n",
       "      <td>22877.928848</td>\n",
       "      <td>-26.0</td>\n",
       "      <td>1022.0</td>\n",
       "      <td>2109.0</td>\n",
       "      <td>3504.0</td>\n",
       "      <td>602069.0</td>\n",
       "    </tr>\n",
       "    <tr>\n",
       "      <th>yr_of_estab</th>\n",
       "      <td>25480.0</td>\n",
       "      <td>NaN</td>\n",
       "      <td>NaN</td>\n",
       "      <td>NaN</td>\n",
       "      <td>1979.409929</td>\n",
       "      <td>42.366929</td>\n",
       "      <td>1800.0</td>\n",
       "      <td>1976.0</td>\n",
       "      <td>1997.0</td>\n",
       "      <td>2005.0</td>\n",
       "      <td>2016.0</td>\n",
       "    </tr>\n",
       "    <tr>\n",
       "      <th>region_of_employment</th>\n",
       "      <td>25480</td>\n",
       "      <td>5</td>\n",
       "      <td>Northeast</td>\n",
       "      <td>7195</td>\n",
       "      <td>NaN</td>\n",
       "      <td>NaN</td>\n",
       "      <td>NaN</td>\n",
       "      <td>NaN</td>\n",
       "      <td>NaN</td>\n",
       "      <td>NaN</td>\n",
       "      <td>NaN</td>\n",
       "    </tr>\n",
       "    <tr>\n",
       "      <th>prevailing_wage</th>\n",
       "      <td>25480.0</td>\n",
       "      <td>NaN</td>\n",
       "      <td>NaN</td>\n",
       "      <td>NaN</td>\n",
       "      <td>74455.814592</td>\n",
       "      <td>52815.942327</td>\n",
       "      <td>2.1367</td>\n",
       "      <td>34015.48</td>\n",
       "      <td>70308.21</td>\n",
       "      <td>107735.5125</td>\n",
       "      <td>319210.27</td>\n",
       "    </tr>\n",
       "    <tr>\n",
       "      <th>unit_of_wage</th>\n",
       "      <td>25480</td>\n",
       "      <td>4</td>\n",
       "      <td>Year</td>\n",
       "      <td>22962</td>\n",
       "      <td>NaN</td>\n",
       "      <td>NaN</td>\n",
       "      <td>NaN</td>\n",
       "      <td>NaN</td>\n",
       "      <td>NaN</td>\n",
       "      <td>NaN</td>\n",
       "      <td>NaN</td>\n",
       "    </tr>\n",
       "    <tr>\n",
       "      <th>full_time_position</th>\n",
       "      <td>25480</td>\n",
       "      <td>2</td>\n",
       "      <td>Y</td>\n",
       "      <td>22773</td>\n",
       "      <td>NaN</td>\n",
       "      <td>NaN</td>\n",
       "      <td>NaN</td>\n",
       "      <td>NaN</td>\n",
       "      <td>NaN</td>\n",
       "      <td>NaN</td>\n",
       "      <td>NaN</td>\n",
       "    </tr>\n",
       "    <tr>\n",
       "      <th>case_status</th>\n",
       "      <td>25480</td>\n",
       "      <td>2</td>\n",
       "      <td>Certified</td>\n",
       "      <td>17018</td>\n",
       "      <td>NaN</td>\n",
       "      <td>NaN</td>\n",
       "      <td>NaN</td>\n",
       "      <td>NaN</td>\n",
       "      <td>NaN</td>\n",
       "      <td>NaN</td>\n",
       "      <td>NaN</td>\n",
       "    </tr>\n",
       "  </tbody>\n",
       "</table>\n",
       "</div>"
      ],
      "text/plain": [
       "                         count unique         top   freq          mean  \\\n",
       "case_id                  25480  25480      EZYV01      1           NaN   \n",
       "continent                25480      6        Asia  16861           NaN   \n",
       "education_of_employee    25480      4  Bachelor's  10234           NaN   \n",
       "has_job_experience       25480      2           Y  14802           NaN   \n",
       "requires_job_training    25480      2           N  22525           NaN   \n",
       "no_of_employees        25480.0    NaN         NaN    NaN    5667.04321   \n",
       "yr_of_estab            25480.0    NaN         NaN    NaN   1979.409929   \n",
       "region_of_employment     25480      5   Northeast   7195           NaN   \n",
       "prevailing_wage        25480.0    NaN         NaN    NaN  74455.814592   \n",
       "unit_of_wage             25480      4        Year  22962           NaN   \n",
       "full_time_position       25480      2           Y  22773           NaN   \n",
       "case_status              25480      2   Certified  17018           NaN   \n",
       "\n",
       "                                std     min       25%       50%          75%  \\\n",
       "case_id                         NaN     NaN       NaN       NaN          NaN   \n",
       "continent                       NaN     NaN       NaN       NaN          NaN   \n",
       "education_of_employee           NaN     NaN       NaN       NaN          NaN   \n",
       "has_job_experience              NaN     NaN       NaN       NaN          NaN   \n",
       "requires_job_training           NaN     NaN       NaN       NaN          NaN   \n",
       "no_of_employees        22877.928848   -26.0    1022.0    2109.0       3504.0   \n",
       "yr_of_estab               42.366929  1800.0    1976.0    1997.0       2005.0   \n",
       "region_of_employment            NaN     NaN       NaN       NaN          NaN   \n",
       "prevailing_wage        52815.942327  2.1367  34015.48  70308.21  107735.5125   \n",
       "unit_of_wage                    NaN     NaN       NaN       NaN          NaN   \n",
       "full_time_position              NaN     NaN       NaN       NaN          NaN   \n",
       "case_status                     NaN     NaN       NaN       NaN          NaN   \n",
       "\n",
       "                             max  \n",
       "case_id                      NaN  \n",
       "continent                    NaN  \n",
       "education_of_employee        NaN  \n",
       "has_job_experience           NaN  \n",
       "requires_job_training        NaN  \n",
       "no_of_employees         602069.0  \n",
       "yr_of_estab               2016.0  \n",
       "region_of_employment         NaN  \n",
       "prevailing_wage        319210.27  \n",
       "unit_of_wage                 NaN  \n",
       "full_time_position           NaN  \n",
       "case_status                  NaN  "
      ]
     },
     "execution_count": 10,
     "metadata": {},
     "output_type": "execute_result"
    }
   ],
   "source": [
    "##  Complete the code to print the statistical summary of the data\n",
    "data.describe(include='all').T \n"
   ]
  },
  {
   "cell_type": "markdown",
   "id": "a760ed3c",
   "metadata": {},
   "source": [
    "**Observations:**\n",
    "* The range of the number of employees in a company is huge. There are some anomalies in the data as we can see that the minimum number of employees is equal to -26, which is not possible. We will have to fix this.\n",
    "* The year of establishment of companies ranges from 1800 to 2016, which seems fine.\n",
    "* The average prevailing wage is 74455.81. There's also a very huge difference in 75th percentile and maximum value which indicates there might be outliers present in this column."
   ]
  },
  {
   "cell_type": "markdown",
   "id": "competent-timing",
   "metadata": {
    "id": "competent-timing"
   },
   "source": [
    "**Fixing the negative values in number of employees columns**"
   ]
  },
  {
   "cell_type": "code",
   "execution_count": 11,
   "id": "0cef38cb",
   "metadata": {},
   "outputs": [
    {
     "data": {
      "text/plain": [
       "(33, 12)"
      ]
     },
     "execution_count": 11,
     "metadata": {},
     "output_type": "execute_result"
    }
   ],
   "source": [
    "## Lets check for negative values in the employee column\n",
    "data.loc[data[\"no_of_employees\"] < 0].shape"
   ]
  },
  {
   "cell_type": "markdown",
   "id": "c497b5b6",
   "metadata": {},
   "source": [
    "* We will consider the 33 observations as data entry errors and take the absolute values for this column."
   ]
  },
  {
   "cell_type": "code",
   "execution_count": 12,
   "id": "prescription-bosnia",
   "metadata": {
    "id": "prescription-bosnia"
   },
   "outputs": [],
   "source": [
    "## Let's take the absolute values for number of employees\n",
    "data[\"no_of_employees\"] = abs(data[\"no_of_employees\"]) "
   ]
  },
  {
   "cell_type": "markdown",
   "id": "cutting-bookmark",
   "metadata": {
    "id": "cutting-bookmark"
   },
   "source": [
    "**Let's check the count of each unique category in each of the categorical variables.** "
   ]
  },
  {
   "cell_type": "code",
   "execution_count": 13,
   "id": "minute-helmet",
   "metadata": {
    "id": "minute-helmet"
   },
   "outputs": [
    {
     "name": "stdout",
     "output_type": "stream",
     "text": [
      "EZYV01       1\n",
      "EZYV16995    1\n",
      "EZYV16993    1\n",
      "EZYV16992    1\n",
      "EZYV16991    1\n",
      "            ..\n",
      "EZYV8492     1\n",
      "EZYV8491     1\n",
      "EZYV8490     1\n",
      "EZYV8489     1\n",
      "EZYV25480    1\n",
      "Name: case_id, Length: 25480, dtype: int64\n",
      "--------------------------------------------------\n",
      "Asia             16861\n",
      "Europe            3732\n",
      "North America     3292\n",
      "South America      852\n",
      "Africa             551\n",
      "Oceania            192\n",
      "Name: continent, dtype: int64\n",
      "--------------------------------------------------\n",
      "Bachelor's     10234\n",
      "Master's        9634\n",
      "High School     3420\n",
      "Doctorate       2192\n",
      "Name: education_of_employee, dtype: int64\n",
      "--------------------------------------------------\n",
      "Y    14802\n",
      "N    10678\n",
      "Name: has_job_experience, dtype: int64\n",
      "--------------------------------------------------\n",
      "N    22525\n",
      "Y     2955\n",
      "Name: requires_job_training, dtype: int64\n",
      "--------------------------------------------------\n",
      "Northeast    7195\n",
      "South        7017\n",
      "West         6586\n",
      "Midwest      4307\n",
      "Island        375\n",
      "Name: region_of_employment, dtype: int64\n",
      "--------------------------------------------------\n",
      "Year     22962\n",
      "Hour      2157\n",
      "Week       272\n",
      "Month       89\n",
      "Name: unit_of_wage, dtype: int64\n",
      "--------------------------------------------------\n",
      "Y    22773\n",
      "N     2707\n",
      "Name: full_time_position, dtype: int64\n",
      "--------------------------------------------------\n",
      "Certified    17018\n",
      "Denied        8462\n",
      "Name: case_status, dtype: int64\n",
      "--------------------------------------------------\n"
     ]
    }
   ],
   "source": [
    "# Making a list of all catrgorical variables\n",
    "cat_col = list(data.select_dtypes(\"object\").columns)\n",
    "\n",
    "# Printing number of count of each unique value in each column\n",
    "for column in cat_col:\n",
    "    print(data[column].value_counts())\n",
    "    print(\"-\" * 50)"
   ]
  },
  {
   "cell_type": "markdown",
   "id": "12c1827f",
   "metadata": {},
   "source": [
    "**Observations:**\n",
    "* Most of the applications in data are from Asians followed by Europeans.\n",
    "* Most of the applicants have a bachelor's degree followed by a master's degree.\n",
    "* Most of the applicants have job experience and do not require job training.\n",
    "* Most applicants have their worksite in the Northeast region of the US.\n",
    "* Most applicants will yearly unit of wage.\n",
    "* Most of the visa applications are for full-time job positions.\n",
    "* The target column case status is imbalanced with many applicants having a certified visa."
   ]
  },
  {
   "cell_type": "code",
   "execution_count": 14,
   "id": "occupied-classroom",
   "metadata": {
    "id": "occupied-classroom"
   },
   "outputs": [
    {
     "data": {
      "text/plain": [
       "25480"
      ]
     },
     "execution_count": 14,
     "metadata": {},
     "output_type": "execute_result"
    }
   ],
   "source": [
    "# checking the number of unique values\n",
    "## Complete the code to check unique values in the mentioned column\n",
    "data[\"case_id\"].nunique()"
   ]
  },
  {
   "cell_type": "markdown",
   "id": "57460333",
   "metadata": {},
   "source": [
    "* All the values in the case id column are unique.\n",
    "* We can drop this column."
   ]
  },
  {
   "cell_type": "code",
   "execution_count": 15,
   "id": "existing-sociology",
   "metadata": {
    "id": "existing-sociology"
   },
   "outputs": [],
   "source": [
    "## Complete the code to drop 'case_id' column from the data\n",
    "data.drop(['case_id'], axis=1, inplace=True)"
   ]
  },
  {
   "cell_type": "markdown",
   "id": "wooden-christian",
   "metadata": {
    "id": "wooden-christian"
   },
   "source": [
    "### Univariate Analysis"
   ]
  },
  {
   "cell_type": "code",
   "execution_count": 16,
   "id": "superb-springfield",
   "metadata": {
    "id": "superb-springfield"
   },
   "outputs": [],
   "source": [
    "# function to plot a boxplot and a histogram along the same scale.\n",
    "\n",
    "\n",
    "def histogram_boxplot(data, feature, figsize=(12, 7), kde=False, bins=None):\n",
    "    \"\"\"\n",
    "    Boxplot and histogram combined\n",
    "\n",
    "    data: dataframe\n",
    "    feature: dataframe column\n",
    "    figsize: size of figure (default (12,7))\n",
    "    kde: whether to the show density curve (default False)\n",
    "    bins: number of bins for histogram (default None)\n",
    "    \"\"\"\n",
    "    f2, (ax_box2, ax_hist2) = plt.subplots(\n",
    "        nrows=2,  # Number of rows of the subplot grid= 2\n",
    "        sharex=True,  # x-axis will be shared among all subplots\n",
    "        gridspec_kw={\"height_ratios\": (0.25, 0.75)},\n",
    "        figsize=figsize,\n",
    "    )  # creating the 2 subplots\n",
    "    sns.boxplot(\n",
    "        data=data, x=feature, ax=ax_box2, showmeans=True, color=\"violet\"\n",
    "    )  # boxplot will be created and a star will indicate the mean value of the column\n",
    "    sns.histplot(\n",
    "        data=data, x=feature, kde=kde, ax=ax_hist2, bins=bins, palette=\"winter\"\n",
    "    ) if bins else sns.histplot(\n",
    "        data=data, x=feature, kde=kde, ax=ax_hist2\n",
    "    )  # For histogram\n",
    "    ax_hist2.axvline(\n",
    "        data[feature].mean(), color=\"green\", linestyle=\"--\"\n",
    "    )  # Add mean to the histogram\n",
    "    ax_hist2.axvline(\n",
    "        data[feature].median(), color=\"black\", linestyle=\"-\"\n",
    "    )  # Add median to the histogram"
   ]
  },
  {
   "cell_type": "markdown",
   "id": "comic-inventory",
   "metadata": {
    "id": "comic-inventory"
   },
   "source": [
    "### Observations on number of employees"
   ]
  },
  {
   "cell_type": "code",
   "execution_count": 17,
   "id": "loaded-commercial",
   "metadata": {
    "id": "loaded-commercial"
   },
   "outputs": [
    {
     "data": {
      "image/png": "[encoded data removed]",
      "text/plain": [
       "<Figure size 864x504 with 2 Axes>"
      ]
     },
     "metadata": {
      "needs_background": "light"
     },
     "output_type": "display_data"
    }
   ],
   "source": [
    "histogram_boxplot(data, \"no_of_employees\")"
   ]
  },
  {
   "cell_type": "markdown",
   "id": "2ce0331a",
   "metadata": {},
   "source": [
    "* The distribution of the number of employees is heavily right-skewed.\n",
    "* Some companies have more than 500k employees. Such companies might have multiple offices around the world."
   ]
  },
  {
   "cell_type": "markdown",
   "id": "metric-apparel",
   "metadata": {
    "id": "metric-apparel"
   },
   "source": [
    "### Observations on prevailing wage"
   ]
  },
  {
   "cell_type": "code",
   "execution_count": 18,
   "id": "duplicate-theater",
   "metadata": {
    "id": "duplicate-theater"
   },
   "outputs": [
    {
     "data": {
      "image/png": "[encoded data removed]",
      "text/plain": [
       "<Figure size 864x504 with 2 Axes>"
      ]
     },
     "metadata": {
      "needs_background": "light"
     },
     "output_type": "display_data"
    }
   ],
   "source": [
    "## Complete the code to create histogram_boxplot for prevailing wage\n",
    "histogram_boxplot(data,\"prevailing_wage\") "
   ]
  },
  {
   "cell_type": "markdown",
   "id": "9a85a84b",
   "metadata": {},
   "source": [
    "* The distribution of prevailing wage is skewed to the right.\n",
    "* There are some job roles where the prevailing wage is more than 200k.\n",
    "* The distribution suggests that some applicants have prevailing wage around 0, let's have a look at them. As we say in the data summary the minimum value is 2.13."
   ]
  },
  {
   "cell_type": "code",
   "execution_count": 19,
   "id": "49968049",
   "metadata": {},
   "outputs": [
    {
     "data": {
      "text/html": [
       "<div>\n",
       "<style scoped>\n",
       "    .dataframe tbody tr th:only-of-type {\n",
       "        vertical-align: middle;\n",
       "    }\n",
       "\n",
       "    .dataframe tbody tr th {\n",
       "        vertical-align: top;\n",
       "    }\n",
       "\n",
       "    .dataframe thead th {\n",
       "        text-align: right;\n",
       "    }\n",
       "</style>\n",
       "<table border=\"1\" class=\"dataframe\">\n",
       "  <thead>\n",
       "    <tr style=\"text-align: right;\">\n",
       "      <th></th>\n",
       "      <th>continent</th>\n",
       "      <th>education_of_employee</th>\n",
       "      <th>has_job_experience</th>\n",
       "      <th>requires_job_training</th>\n",
       "      <th>no_of_employees</th>\n",
       "      <th>yr_of_estab</th>\n",
       "      <th>region_of_employment</th>\n",
       "      <th>prevailing_wage</th>\n",
       "      <th>unit_of_wage</th>\n",
       "      <th>full_time_position</th>\n",
       "      <th>case_status</th>\n",
       "    </tr>\n",
       "  </thead>\n",
       "  <tbody>\n",
       "    <tr>\n",
       "      <th>338</th>\n",
       "      <td>Asia</td>\n",
       "      <td>Bachelor's</td>\n",
       "      <td>Y</td>\n",
       "      <td>N</td>\n",
       "      <td>2114</td>\n",
       "      <td>2012</td>\n",
       "      <td>Northeast</td>\n",
       "      <td>15.7716</td>\n",
       "      <td>Hour</td>\n",
       "      <td>Y</td>\n",
       "      <td>Certified</td>\n",
       "    </tr>\n",
       "    <tr>\n",
       "      <th>634</th>\n",
       "      <td>Asia</td>\n",
       "      <td>Master's</td>\n",
       "      <td>N</td>\n",
       "      <td>N</td>\n",
       "      <td>834</td>\n",
       "      <td>1977</td>\n",
       "      <td>Northeast</td>\n",
       "      <td>3.3188</td>\n",
       "      <td>Hour</td>\n",
       "      <td>Y</td>\n",
       "      <td>Denied</td>\n",
       "    </tr>\n",
       "    <tr>\n",
       "      <th>839</th>\n",
       "      <td>Asia</td>\n",
       "      <td>High School</td>\n",
       "      <td>Y</td>\n",
       "      <td>N</td>\n",
       "      <td>4537</td>\n",
       "      <td>1999</td>\n",
       "      <td>West</td>\n",
       "      <td>61.1329</td>\n",
       "      <td>Hour</td>\n",
       "      <td>Y</td>\n",
       "      <td>Denied</td>\n",
       "    </tr>\n",
       "    <tr>\n",
       "      <th>876</th>\n",
       "      <td>South America</td>\n",
       "      <td>Bachelor's</td>\n",
       "      <td>Y</td>\n",
       "      <td>N</td>\n",
       "      <td>731</td>\n",
       "      <td>2004</td>\n",
       "      <td>Northeast</td>\n",
       "      <td>82.0029</td>\n",
       "      <td>Hour</td>\n",
       "      <td>Y</td>\n",
       "      <td>Denied</td>\n",
       "    </tr>\n",
       "    <tr>\n",
       "      <th>995</th>\n",
       "      <td>Asia</td>\n",
       "      <td>Master's</td>\n",
       "      <td>N</td>\n",
       "      <td>N</td>\n",
       "      <td>302</td>\n",
       "      <td>2000</td>\n",
       "      <td>South</td>\n",
       "      <td>47.4872</td>\n",
       "      <td>Hour</td>\n",
       "      <td>Y</td>\n",
       "      <td>Certified</td>\n",
       "    </tr>\n",
       "    <tr>\n",
       "      <th>...</th>\n",
       "      <td>...</td>\n",
       "      <td>...</td>\n",
       "      <td>...</td>\n",
       "      <td>...</td>\n",
       "      <td>...</td>\n",
       "      <td>...</td>\n",
       "      <td>...</td>\n",
       "      <td>...</td>\n",
       "      <td>...</td>\n",
       "      <td>...</td>\n",
       "      <td>...</td>\n",
       "    </tr>\n",
       "    <tr>\n",
       "      <th>25023</th>\n",
       "      <td>Asia</td>\n",
       "      <td>Bachelor's</td>\n",
       "      <td>N</td>\n",
       "      <td>Y</td>\n",
       "      <td>3200</td>\n",
       "      <td>1994</td>\n",
       "      <td>South</td>\n",
       "      <td>94.1546</td>\n",
       "      <td>Hour</td>\n",
       "      <td>Y</td>\n",
       "      <td>Denied</td>\n",
       "    </tr>\n",
       "    <tr>\n",
       "      <th>25258</th>\n",
       "      <td>Asia</td>\n",
       "      <td>Bachelor's</td>\n",
       "      <td>Y</td>\n",
       "      <td>N</td>\n",
       "      <td>3659</td>\n",
       "      <td>1997</td>\n",
       "      <td>South</td>\n",
       "      <td>79.1099</td>\n",
       "      <td>Hour</td>\n",
       "      <td>Y</td>\n",
       "      <td>Denied</td>\n",
       "    </tr>\n",
       "    <tr>\n",
       "      <th>25308</th>\n",
       "      <td>North America</td>\n",
       "      <td>Master's</td>\n",
       "      <td>N</td>\n",
       "      <td>N</td>\n",
       "      <td>82953</td>\n",
       "      <td>1977</td>\n",
       "      <td>Northeast</td>\n",
       "      <td>42.7705</td>\n",
       "      <td>Hour</td>\n",
       "      <td>Y</td>\n",
       "      <td>Denied</td>\n",
       "    </tr>\n",
       "    <tr>\n",
       "      <th>25329</th>\n",
       "      <td>Africa</td>\n",
       "      <td>Bachelor's</td>\n",
       "      <td>N</td>\n",
       "      <td>N</td>\n",
       "      <td>2172</td>\n",
       "      <td>1993</td>\n",
       "      <td>Northeast</td>\n",
       "      <td>32.9286</td>\n",
       "      <td>Hour</td>\n",
       "      <td>Y</td>\n",
       "      <td>Denied</td>\n",
       "    </tr>\n",
       "    <tr>\n",
       "      <th>25461</th>\n",
       "      <td>Asia</td>\n",
       "      <td>Master's</td>\n",
       "      <td>Y</td>\n",
       "      <td>N</td>\n",
       "      <td>2861</td>\n",
       "      <td>2004</td>\n",
       "      <td>West</td>\n",
       "      <td>54.9196</td>\n",
       "      <td>Hour</td>\n",
       "      <td>Y</td>\n",
       "      <td>Denied</td>\n",
       "    </tr>\n",
       "  </tbody>\n",
       "</table>\n",
       "<p>176 rows × 11 columns</p>\n",
       "</div>"
      ],
      "text/plain": [
       "           continent education_of_employee has_job_experience  \\\n",
       "338             Asia            Bachelor's                  Y   \n",
       "634             Asia              Master's                  N   \n",
       "839             Asia           High School                  Y   \n",
       "876    South America            Bachelor's                  Y   \n",
       "995             Asia              Master's                  N   \n",
       "...              ...                   ...                ...   \n",
       "25023           Asia            Bachelor's                  N   \n",
       "25258           Asia            Bachelor's                  Y   \n",
       "25308  North America              Master's                  N   \n",
       "25329         Africa            Bachelor's                  N   \n",
       "25461           Asia              Master's                  Y   \n",
       "\n",
       "      requires_job_training  no_of_employees  yr_of_estab  \\\n",
       "338                       N             2114         2012   \n",
       "634                       N              834         1977   \n",
       "839                       N             4537         1999   \n",
       "876                       N              731         2004   \n",
       "995                       N              302         2000   \n",
       "...                     ...              ...          ...   \n",
       "25023                     Y             3200         1994   \n",
       "25258                     N             3659         1997   \n",
       "25308                     N            82953         1977   \n",
       "25329                     N             2172         1993   \n",
       "25461                     N             2861         2004   \n",
       "\n",
       "      region_of_employment  prevailing_wage unit_of_wage full_time_position  \\\n",
       "338              Northeast          15.7716         Hour                  Y   \n",
       "634              Northeast           3.3188         Hour                  Y   \n",
       "839                   West          61.1329         Hour                  Y   \n",
       "876              Northeast          82.0029         Hour                  Y   \n",
       "995                  South          47.4872         Hour                  Y   \n",
       "...                    ...              ...          ...                ...   \n",
       "25023                South          94.1546         Hour                  Y   \n",
       "25258                South          79.1099         Hour                  Y   \n",
       "25308            Northeast          42.7705         Hour                  Y   \n",
       "25329            Northeast          32.9286         Hour                  Y   \n",
       "25461                 West          54.9196         Hour                  Y   \n",
       "\n",
       "      case_status  \n",
       "338     Certified  \n",
       "634        Denied  \n",
       "839        Denied  \n",
       "876        Denied  \n",
       "995     Certified  \n",
       "...           ...  \n",
       "25023      Denied  \n",
       "25258      Denied  \n",
       "25308      Denied  \n",
       "25329      Denied  \n",
       "25461      Denied  \n",
       "\n",
       "[176 rows x 11 columns]"
      ]
     },
     "execution_count": 19,
     "metadata": {},
     "output_type": "execute_result"
    }
   ],
   "source": [
    "# checking the observations which have less than 100 prevailing wage\n",
    "data.loc[data[\"prevailing_wage\"] < 100]"
   ]
  },
  {
   "cell_type": "markdown",
   "id": "2488b719",
   "metadata": {},
   "source": [
    "* It looks like the unit of the wage for these observations is hours. "
   ]
  },
  {
   "cell_type": "code",
   "execution_count": 20,
   "id": "handmade-carroll",
   "metadata": {
    "id": "handmade-carroll"
   },
   "outputs": [
    {
     "data": {
      "text/plain": [
       "Hour    176\n",
       "Name: unit_of_wage, dtype: int64"
      ]
     },
     "execution_count": 20,
     "metadata": {},
     "output_type": "execute_result"
    }
   ],
   "source": [
    "## Let's get the count of the values in the mentioned column\n",
    "data.loc[data[\"prevailing_wage\"] < 100, \"unit_of_wage\"].value_counts()"
   ]
  },
  {
   "cell_type": "markdown",
   "id": "0e61ce66",
   "metadata": {},
   "source": [
    "* All such observations where the prevailing wage is less than 100 have the unit of wage as hours. This makes sense and confirms that these are not anomalous observations in the data."
   ]
  },
  {
   "cell_type": "code",
   "execution_count": 21,
   "id": "proof-drove",
   "metadata": {
    "id": "proof-drove"
   },
   "outputs": [],
   "source": [
    "# function to create labeled barplots\n",
    "\n",
    "\n",
    "def labeled_barplot(data, feature, perc=False, n=None):\n",
    "    \"\"\"\n",
    "    Barplot with percentage at the top\n",
    "\n",
    "    data: dataframe\n",
    "    feature: dataframe column\n",
    "    perc: whether to display percentages instead of count (default is False)\n",
    "    n: displays the top n category levels (default is None, i.e., display all levels)\n",
    "    \"\"\"\n",
    "\n",
    "    total = len(data[feature])  # length of the column\n",
    "    count = data[feature].nunique()\n",
    "    if n is None:\n",
    "        plt.figure(figsize=(count + 1, 5))\n",
    "    else:\n",
    "        plt.figure(figsize=(n + 1, 5))\n",
    "\n",
    "    plt.xticks(rotation=90, fontsize=15)\n",
    "    ax = sns.countplot(\n",
    "        data=data,\n",
    "        x=feature,\n",
    "        palette=\"Paired\",\n",
    "        order=data[feature].value_counts().index[:n].sort_values(),\n",
    "    )\n",
    "\n",
    "    for p in ax.patches:\n",
    "        if perc == True:\n",
    "            label = \"{:.1f}%\".format(\n",
    "                100 * p.get_height() / total\n",
    "            )  # percentage of each class of the category\n",
    "        else:\n",
    "            label = p.get_height()  # count of each level of the category\n",
    "\n",
    "        x = p.get_x() + p.get_width() / 2  # width of the plot\n",
    "        y = p.get_height()  # height of the plot\n",
    "\n",
    "        ax.annotate(\n",
    "            label,\n",
    "            (x, y),\n",
    "            ha=\"center\",\n",
    "            va=\"center\",\n",
    "            size=12,\n",
    "            xytext=(0, 5),\n",
    "            textcoords=\"offset points\",\n",
    "        )  # annotate the percentage\n",
    "\n",
    "    plt.show()  # show the plot"
   ]
  },
  {
   "cell_type": "markdown",
   "id": "bulgarian-parts",
   "metadata": {
    "id": "bulgarian-parts"
   },
   "source": [
    "### Observations on continent"
   ]
  },
  {
   "cell_type": "code",
   "execution_count": 22,
   "id": "artistic-accounting",
   "metadata": {
    "id": "artistic-accounting"
   },
   "outputs": [
    {
     "data": {
      "image/png": "[encoded data removed]",
      "text/plain": [
       "<Figure size 504x360 with 1 Axes>"
      ]
     },
     "metadata": {
      "needs_background": "light"
     },
     "output_type": "display_data"
    }
   ],
   "source": [
    "## Let's create labeled_barplot for continent\n",
    "labeled_barplot(data, \"continent\", perc=True) "
   ]
  },
  {
   "cell_type": "markdown",
   "id": "6c89c22d",
   "metadata": {},
   "source": [
    "* More than half (66.2%) of the applicants are from Asia, followed by 14.6% of the applications from Europe."
   ]
  },
  {
   "cell_type": "markdown",
   "id": "editorial-command",
   "metadata": {
    "id": "editorial-command"
   },
   "source": [
    "### Observations on education of employee"
   ]
  },
  {
   "cell_type": "code",
   "execution_count": 23,
   "id": "express-harrison",
   "metadata": {
    "id": "express-harrison",
    "scrolled": false
   },
   "outputs": [
    {
     "data": {
      "image/png": "[encoded data removed]",
      "text/plain": [
       "<Figure size 360x360 with 1 Axes>"
      ]
     },
     "metadata": {
      "needs_background": "light"
     },
     "output_type": "display_data"
    }
   ],
   "source": [
    "## Let's create labeled_barplot for education of employee\n",
    "labeled_barplot(data, \"education_of_employee\", perc=True)  "
   ]
  },
  {
   "cell_type": "markdown",
   "id": "7db7b81a",
   "metadata": {},
   "source": [
    "* 40.2% of the applicants have a bachelor's degree, followed by 37.8% having a master's degree.\n",
    "* 8.6% of the applicants have a doctorate degree."
   ]
  },
  {
   "cell_type": "markdown",
   "id": "forbidden-kidney",
   "metadata": {
    "id": "forbidden-kidney"
   },
   "source": [
    "### Observations on job experience"
   ]
  },
  {
   "cell_type": "code",
   "execution_count": 24,
   "id": "exterior-rings",
   "metadata": {
    "id": "exterior-rings"
   },
   "outputs": [
    {
     "data": {
      "image/png": "[encoded data removed]",
      "text/plain": [
       "<Figure size 216x360 with 1 Axes>"
      ]
     },
     "metadata": {
      "needs_background": "light"
     },
     "output_type": "display_data"
    }
   ],
   "source": [
    "## Let's create labeled_barplot for job experience\n",
    "labeled_barplot(data, 'has_job_experience', perc=True) "
   ]
  },
  {
   "cell_type": "markdown",
   "id": "e6e7901f",
   "metadata": {},
   "source": [
    "* 58.1% of the customers have job experience."
   ]
  },
  {
   "cell_type": "markdown",
   "id": "amateur-above",
   "metadata": {
    "id": "amateur-above"
   },
   "source": [
    "### Observations on job training"
   ]
  },
  {
   "cell_type": "code",
   "execution_count": 25,
   "id": "serial-irrigation",
   "metadata": {
    "id": "serial-irrigation",
    "scrolled": false
   },
   "outputs": [
    {
     "data": {
      "image/png": "[encoded data removed]",
      "text/plain": [
       "<Figure size 216x360 with 1 Axes>"
      ]
     },
     "metadata": {
      "needs_background": "light"
     },
     "output_type": "display_data"
    }
   ],
   "source": [
    "## Let's create labeled_barplot for job training \n",
    "labeled_barplot(data, 'requires_job_training', perc=True)  "
   ]
  },
  {
   "cell_type": "markdown",
   "id": "272e56a0",
   "metadata": {},
   "source": [
    "* 88.4% of the applicants do not require any job training."
   ]
  },
  {
   "cell_type": "markdown",
   "id": "attempted-burlington",
   "metadata": {
    "id": "attempted-burlington"
   },
   "source": [
    "### Observations on region of employment"
   ]
  },
  {
   "cell_type": "code",
   "execution_count": 26,
   "id": "suited-tuner",
   "metadata": {
    "id": "suited-tuner",
    "scrolled": false
   },
   "outputs": [
    {
     "data": {
      "image/png": "[encoded data removed]",
      "text/plain": [
       "<Figure size 432x360 with 1 Axes>"
      ]
     },
     "metadata": {
      "needs_background": "light"
     },
     "output_type": "display_data"
    }
   ],
   "source": [
    "## Let's create labeled_barplot for region of employment\n",
    "labeled_barplot(data,'region_of_employment', perc = True)  "
   ]
  },
  {
   "cell_type": "markdown",
   "id": "50315722",
   "metadata": {},
   "source": [
    "* Northeast, South, and West have almost equal percentages of applicants. (25%-28%)\n",
    "* The Island regions have only 1.5% of the applicants."
   ]
  },
  {
   "cell_type": "markdown",
   "id": "aging-curve",
   "metadata": {
    "id": "aging-curve"
   },
   "source": [
    "### Observations on unit of wage"
   ]
  },
  {
   "cell_type": "code",
   "execution_count": 27,
   "id": "modified-breed",
   "metadata": {
    "id": "modified-breed"
   },
   "outputs": [
    {
     "data": {
      "image/png": "[encoded data removed]",
      "text/plain": [
       "<Figure size 360x360 with 1 Axes>"
      ]
     },
     "metadata": {
      "needs_background": "light"
     },
     "output_type": "display_data"
    }
   ],
   "source": [
    "## Let's create labeled_barplot for unit of wage\n",
    "labeled_barplot(data,'unit_of_wage', perc = True)  "
   ]
  },
  {
   "cell_type": "markdown",
   "id": "523c1e92",
   "metadata": {},
   "source": [
    "* 90.1% of the applicants have a yearly unit of the wage, followed by 8.5% of the applicants having hourly wages."
   ]
  },
  {
   "cell_type": "markdown",
   "id": "stunning-surrey",
   "metadata": {
    "id": "stunning-surrey"
   },
   "source": [
    "### Observations on case status"
   ]
  },
  {
   "cell_type": "code",
   "execution_count": 28,
   "id": "potential-stroke",
   "metadata": {
    "id": "potential-stroke"
   },
   "outputs": [
    {
     "data": {
      "image/png": "[encoded data removed]",
      "text/plain": [
       "<Figure size 216x360 with 1 Axes>"
      ]
     },
     "metadata": {
      "needs_background": "light"
     },
     "output_type": "display_data"
    }
   ],
   "source": [
    "## Let's create labeled_barplot for case status\n",
    "labeled_barplot(data,'case_status', perc = True)  "
   ]
  },
  {
   "cell_type": "markdown",
   "id": "0156ef42",
   "metadata": {},
   "source": [
    "* 66.8% of the visas were certified."
   ]
  },
  {
   "cell_type": "markdown",
   "id": "equivalent-aging",
   "metadata": {
    "id": "equivalent-aging"
   },
   "source": [
    "### Bivariate Analysis"
   ]
  },
  {
   "cell_type": "code",
   "execution_count": 29,
   "id": "social-wagner",
   "metadata": {
    "id": "social-wagner"
   },
   "outputs": [
    {
     "data": {
      "image/png": "[encoded data removed]",
      "text/plain": [
       "<Figure size 720x360 with 2 Axes>"
      ]
     },
     "metadata": {
      "needs_background": "light"
     },
     "output_type": "display_data"
    }
   ],
   "source": [
    "## Let us create the code to find the correlation between the variables\n",
    "cols_list = data.select_dtypes(include=np.number).columns.tolist()\n",
    "\n",
    "plt.figure(figsize=(10, 5))\n",
    "sns.heatmap(\n",
    "    data[cols_list].corr(), annot=True, vmin=-1, vmax=1, fmt=\".2f\", cmap=\"Spectral\"\n",
    ") \n",
    "plt.show()"
   ]
  },
  {
   "cell_type": "markdown",
   "id": "69a49b99",
   "metadata": {},
   "source": [
    "* There's no correlation within the independent features of the data."
   ]
  },
  {
   "cell_type": "markdown",
   "id": "blond-convertible",
   "metadata": {
    "id": "blond-convertible"
   },
   "source": [
    "**Creating functions that will help us with further analysis.**"
   ]
  },
  {
   "cell_type": "code",
   "execution_count": 30,
   "id": "adaptive-recipient",
   "metadata": {
    "id": "adaptive-recipient"
   },
   "outputs": [],
   "source": [
    "### function to plot distributions wrt target\n",
    "\n",
    "\n",
    "def distribution_plot_wrt_target(data, predictor, target):\n",
    "\n",
    "    fig, axs = plt.subplots(2, 2, figsize=(12, 10))\n",
    "\n",
    "    target_uniq = data[target].unique()\n",
    "\n",
    "    axs[0, 0].set_title(\"Distribution of target for target=\" + str(target_uniq[0]))\n",
    "    sns.histplot(\n",
    "        data=data[data[target] == target_uniq[0]],\n",
    "        x=predictor,\n",
    "        kde=True,\n",
    "        ax=axs[0, 0],\n",
    "        color=\"teal\",\n",
    "        stat=\"density\",\n",
    "    )\n",
    "\n",
    "    axs[0, 1].set_title(\"Distribution of target for target=\" + str(target_uniq[1]))\n",
    "    sns.histplot(\n",
    "        data=data[data[target] == target_uniq[1]],\n",
    "        x=predictor,\n",
    "        kde=True,\n",
    "        ax=axs[0, 1],\n",
    "        color=\"orange\",\n",
    "        stat=\"density\",\n",
    "    )\n",
    "\n",
    "    axs[1, 0].set_title(\"Boxplot w.r.t target\")\n",
    "    sns.boxplot(data=data, x=target, y=predictor, ax=axs[1, 0], palette=\"gist_rainbow\")\n",
    "\n",
    "    axs[1, 1].set_title(\"Boxplot (without outliers) w.r.t target\")\n",
    "    sns.boxplot(\n",
    "        data=data,\n",
    "        x=target,\n",
    "        y=predictor,\n",
    "        ax=axs[1, 1],\n",
    "        showfliers=False,\n",
    "        palette=\"gist_rainbow\",\n",
    "    )\n",
    "\n",
    "    plt.tight_layout()\n",
    "    plt.show()"
   ]
  },
  {
   "cell_type": "code",
   "execution_count": 31,
   "id": "third-sheriff",
   "metadata": {
    "id": "third-sheriff"
   },
   "outputs": [],
   "source": [
    "def stacked_barplot(data, predictor, target):\n",
    "    \"\"\"\n",
    "    Print the category counts and plot a stacked bar chart\n",
    "\n",
    "    data: dataframe\n",
    "    predictor: independent variable\n",
    "    target: target variable\n",
    "    \"\"\"\n",
    "    count = data[predictor].nunique()\n",
    "    sorter = data[target].value_counts().index[-1]\n",
    "    tab1 = pd.crosstab(data[predictor], data[target], margins=True).sort_values(\n",
    "        by=sorter, ascending=False\n",
    "    )\n",
    "    print(tab1)\n",
    "    print(\"-\" * 120)\n",
    "    tab = pd.crosstab(data[predictor], data[target], normalize=\"index\").sort_values(\n",
    "        by=sorter, ascending=False\n",
    "    )\n",
    "    tab.plot(kind=\"bar\", stacked=True, figsize=(count + 5, 5))\n",
    "    plt.legend(\n",
    "        loc=\"lower left\", frameon=False,\n",
    "    )\n",
    "    plt.legend(loc=\"upper left\", bbox_to_anchor=(1, 1))\n",
    "    plt.show()"
   ]
  },
  {
   "cell_type": "markdown",
   "id": "dressed-excuse",
   "metadata": {
    "id": "dressed-excuse"
   },
   "source": [
    "**Those with higher education may want to travel abroad for a well-paid job. Let's find out if education has any impact on visa certification**"
   ]
  },
  {
   "cell_type": "code",
   "execution_count": 32,
   "id": "special-florist",
   "metadata": {
    "id": "special-florist",
    "scrolled": false
   },
   "outputs": [
    {
     "name": "stdout",
     "output_type": "stream",
     "text": [
      "case_status            Certified  Denied    All\n",
      "education_of_employee                          \n",
      "All                        17018    8462  25480\n",
      "Bachelor's                  6367    3867  10234\n",
      "High School                 1164    2256   3420\n",
      "Master's                    7575    2059   9634\n",
      "Doctorate                   1912     280   2192\n",
      "------------------------------------------------------------------------------------------------------------------------\n"
     ]
    },
    {
     "data": {
      "image/png": "[encoded data removed]",
      "text/plain": [
       "<Figure size 648x360 with 1 Axes>"
      ]
     },
     "metadata": {
      "needs_background": "light"
     },
     "output_type": "display_data"
    }
   ],
   "source": [
    "stacked_barplot(data, \"education_of_employee\", \"case_status\")"
   ]
  },
  {
   "cell_type": "markdown",
   "id": "38614255",
   "metadata": {},
   "source": [
    "* Education seems to have a positive relationship with the certification of visa. The higher the education level, the higher  the chances of visa getting certified.\n",
    "* Around 85% of the visa applications got certified for the applicants with Doctorate degree. While 80% of the visa applications got certified for the applicants with Master's degree.\n",
    "* Around 60% of the visa applications got certified for applicants with Bachelor's degrees.\n",
    "* Applicants who do not have a degree and have graduated from high school are more likely to have their applications denied."
   ]
  },
  {
   "cell_type": "markdown",
   "id": "wound-communication",
   "metadata": {
    "id": "wound-communication"
   },
   "source": [
    "**Different regions have different requirements of talent having diverse educational backgrounds. Let's analyze it further**"
   ]
  },
  {
   "cell_type": "code",
   "execution_count": 33,
   "id": "tamil-intelligence",
   "metadata": {
    "id": "tamil-intelligence"
   },
   "outputs": [
    {
     "data": {
      "image/png": "[encoded data removed]",
      "text/plain": [
       "<Figure size 720x360 with 2 Axes>"
      ]
     },
     "metadata": {
      "needs_background": "light"
     },
     "output_type": "display_data"
    }
   ],
   "source": [
    "plt.figure(figsize=(10, 5))\n",
    "sns.heatmap(pd.crosstab(data['education_of_employee'], data['region_of_employment']),\n",
    "    annot=True,\n",
    "    fmt=\"g\",\n",
    "    cmap=\"viridis\"\n",
    ") ## Complete the code to plot heatmap for the crosstab between education and region of employment\n",
    "\n",
    "plt.ylabel(\"Education\")\n",
    "plt.xlabel(\"Region\")\n",
    "plt.show()"
   ]
  },
  {
   "cell_type": "markdown",
   "id": "8084c1f1",
   "metadata": {},
   "source": [
    "* The requirement for the applicants who have passed high school is most in the South region, followed by Northeast region.\n",
    "* The requirement for Bachelor's is mostly in South region, followed by West region.\n",
    "* The requirement for Master's is most in Northeast region, followed by South region.\n",
    "* The requirement for Doctorate's is mostly in West region, followed by Northeast region."
   ]
  },
  {
   "cell_type": "markdown",
   "id": "theoretical-flexibility",
   "metadata": {
    "id": "theoretical-flexibility"
   },
   "source": [
    "**Let's have a look at the percentage of visa certifications across each region**"
   ]
  },
  {
   "cell_type": "code",
   "execution_count": 34,
   "id": "hybrid-zealand",
   "metadata": {
    "id": "hybrid-zealand",
    "scrolled": false
   },
   "outputs": [
    {
     "name": "stdout",
     "output_type": "stream",
     "text": [
      "case_status           Certified  Denied    All\n",
      "region_of_employment                          \n",
      "All                       17018    8462  25480\n",
      "Northeast                  4526    2669   7195\n",
      "West                       4100    2486   6586\n",
      "South                      4913    2104   7017\n",
      "Midwest                    3253    1054   4307\n",
      "Island                      226     149    375\n",
      "------------------------------------------------------------------------------------------------------------------------\n"
     ]
    },
    {
     "data": {
      "image/png": "[encoded data removed]",
      "text/plain": [
       "<Figure size 720x360 with 1 Axes>"
      ]
     },
     "metadata": {
      "needs_background": "light"
     },
     "output_type": "display_data"
    }
   ],
   "source": [
    "## Let's plot stacked barplot for region of employment and case status\n",
    "stacked_barplot(data, 'region_of_employment', \"case_status\")"
   ]
  },
  {
   "cell_type": "markdown",
   "id": "b5f57975",
   "metadata": {},
   "source": [
    "* Midwest region sees the highest number of visa certifications - around 75%, followed by the south region that sees around 70% of the visa applications getting certified.\n",
    "* Island, West, and Northeast region has an almost equal percentage of visa certifications."
   ]
  },
  {
   "cell_type": "markdown",
   "id": "attended-current",
   "metadata": {
    "id": "attended-current"
   },
   "source": [
    "**Lets' similarly check for the continents and find out how the visa status vary across different continents.**"
   ]
  },
  {
   "cell_type": "code",
   "execution_count": 35,
   "id": "alive-bloom",
   "metadata": {
    "id": "alive-bloom"
   },
   "outputs": [
    {
     "name": "stdout",
     "output_type": "stream",
     "text": [
      "case_status    Certified  Denied    All\n",
      "continent                              \n",
      "All                17018    8462  25480\n",
      "Asia               11012    5849  16861\n",
      "North America       2037    1255   3292\n",
      "Europe              2957     775   3732\n",
      "South America        493     359    852\n",
      "Africa               397     154    551\n",
      "Oceania              122      70    192\n",
      "------------------------------------------------------------------------------------------------------------------------\n"
     ]
    },
    {
     "data": {
      "image/png": "[encoded data removed]",
      "text/plain": [
       "<Figure size 792x360 with 1 Axes>"
      ]
     },
     "metadata": {
      "needs_background": "light"
     },
     "output_type": "display_data"
    }
   ],
   "source": [
    "## Let's plot stacked barplot for continent and case status\n",
    "stacked_barplot(data, 'continent', \"case_status\")"
   ]
  },
  {
   "cell_type": "markdown",
   "id": "084c84de",
   "metadata": {},
   "source": [
    "* Applications from Europe and Africa have a higher chance of getting certified.\n",
    "* Around 80% of the applications from Europe are certified.\n",
    "* Asia has the third-highest percentage (Around 60%) of visa certification and has the highest number of applications."
   ]
  },
  {
   "cell_type": "markdown",
   "id": "macro-decrease",
   "metadata": {
    "id": "macro-decrease"
   },
   "source": [
    "**Experienced professionals might look abroad for opportunities to improve their lifestyles and career development. Let's see if having work experience has any influence over visa certification** "
   ]
  },
  {
   "cell_type": "code",
   "execution_count": 36,
   "id": "divine-dimension",
   "metadata": {
    "id": "divine-dimension"
   },
   "outputs": [
    {
     "name": "stdout",
     "output_type": "stream",
     "text": [
      "case_status         Certified  Denied    All\n",
      "has_job_experience                          \n",
      "All                     17018    8462  25480\n",
      "N                        5994    4684  10678\n",
      "Y                       11024    3778  14802\n",
      "------------------------------------------------------------------------------------------------------------------------\n"
     ]
    },
    {
     "data": {
      "image/png": "[encoded data removed]",
      "text/plain": [
       "<Figure size 504x360 with 1 Axes>"
      ]
     },
     "metadata": {
      "needs_background": "light"
     },
     "output_type": "display_data"
    }
   ],
   "source": [
    "## Let's plot stacked barplot for job experience and case status\n",
    "stacked_barplot(data, 'has_job_experience', \"case_status\")"
   ]
  },
  {
   "cell_type": "markdown",
   "id": "0beaffca",
   "metadata": {},
   "source": [
    "* Having job experience seems to be a key differentiator between visa applications getting certified or denied.\n",
    "* Around 80% of the applications were certified for the applicants who have some job experience as compared to the applicants who do not have any job experience. \n",
    "* Applicants without job experiences saw only 60% of the visa applications getting certified."
   ]
  },
  {
   "cell_type": "markdown",
   "id": "binding-charger",
   "metadata": {
    "id": "binding-charger"
   },
   "source": [
    "**Do the employees who have prior work experience require any job training?**"
   ]
  },
  {
   "cell_type": "code",
   "execution_count": 37,
   "id": "temporal-dairy",
   "metadata": {
    "id": "temporal-dairy",
    "scrolled": false
   },
   "outputs": [
    {
     "name": "stdout",
     "output_type": "stream",
     "text": [
      "requires_job_training      N     Y    All\n",
      "has_job_experience                       \n",
      "All                    22525  2955  25480\n",
      "N                       8988  1690  10678\n",
      "Y                      13537  1265  14802\n",
      "------------------------------------------------------------------------------------------------------------------------\n"
     ]
    },
    {
     "data": {
      "image/png": "[encoded data removed]",
      "text/plain": [
       "<Figure size 504x360 with 1 Axes>"
      ]
     },
     "metadata": {
      "needs_background": "light"
     },
     "output_type": "display_data"
    }
   ],
   "source": [
    " ## Let's plot stacked barplot for job experience and requires_job_training\n",
    "stacked_barplot(data, 'has_job_experience', \"requires_job_training\")"
   ]
  },
  {
   "cell_type": "markdown",
   "id": "lesser-bacteria",
   "metadata": {
    "id": "lesser-bacteria"
   },
   "source": [
    "**The US government has established a prevailing wage to protect local talent and foreign workers. Let's analyze the data and see if the visa status changes with the prevailing wage**"
   ]
  },
  {
   "cell_type": "code",
   "execution_count": 38,
   "id": "perfect-haiti",
   "metadata": {
    "id": "perfect-haiti"
   },
   "outputs": [
    {
     "data": {
      "image/png": "[encoded data removed]",
      "text/plain": [
       "<Figure size 864x720 with 4 Axes>"
      ]
     },
     "metadata": {
      "needs_background": "light"
     },
     "output_type": "display_data"
    }
   ],
   "source": [
    "## Let's find distribution of prevailing wage and case status\n",
    "distribution_plot_wrt_target(data,'prevailing_wage','case_status') "
   ]
  },
  {
   "cell_type": "markdown",
   "id": "3a339d59",
   "metadata": {},
   "source": [
    "* The median prevailing wage for the certified applications is slightly higher as compared to denied applications."
   ]
  },
  {
   "cell_type": "markdown",
   "id": "changing-kansas",
   "metadata": {
    "id": "changing-kansas"
   },
   "source": [
    "**Checking if the prevailing wage is similar across all the regions of the US**"
   ]
  },
  {
   "cell_type": "code",
   "execution_count": 39,
   "id": "dangerous-pride",
   "metadata": {
    "id": "dangerous-pride"
   },
   "outputs": [
    {
     "data": {
      "image/png": "[encoded data removed]",
      "text/plain": [
       "<Figure size 720x360 with 1 Axes>"
      ]
     },
     "metadata": {
      "needs_background": "light"
     },
     "output_type": "display_data"
    }
   ],
   "source": [
    "## Let's create boxplot for region of employment and prevailing wage\n",
    "plt.figure(figsize=(10, 5))\n",
    "sns.boxplot(data=data, x=\"region_of_employment\", y=\"prevailing_wage\")  \n",
    "plt.show()"
   ]
  },
  {
   "cell_type": "markdown",
   "id": "34bb0dac",
   "metadata": {},
   "source": [
    "* Midwest and Island regions have slightly higher prevailing wages as compared to other regions. \n",
    "* The distribution of prevailing wage is similar across West, Northeast, and South regions."
   ]
  },
  {
   "cell_type": "markdown",
   "id": "suspected-asthma",
   "metadata": {
    "id": "suspected-asthma"
   },
   "source": [
    "**The prevailing wage has different units (Hourly, Weekly, etc). Let's find out if it has any impact on visa applications getting certified.**"
   ]
  },
  {
   "cell_type": "code",
   "execution_count": 40,
   "id": "impossible-aquatic",
   "metadata": {
    "id": "impossible-aquatic",
    "scrolled": false
   },
   "outputs": [
    {
     "name": "stdout",
     "output_type": "stream",
     "text": [
      "case_status   Certified  Denied    All\n",
      "unit_of_wage                          \n",
      "All               17018    8462  25480\n",
      "Year              16047    6915  22962\n",
      "Hour                747    1410   2157\n",
      "Week                169     103    272\n",
      "Month                55      34     89\n",
      "------------------------------------------------------------------------------------------------------------------------\n"
     ]
    },
    {
     "data": {
      "image/png": "[encoded data removed]",
      "text/plain": [
       "<Figure size 648x360 with 1 Axes>"
      ]
     },
     "metadata": {
      "needs_background": "light"
     },
     "output_type": "display_data"
    }
   ],
   "source": [
    "## Let's plot stacked barplot for unit of wage and case status\n",
    "stacked_barplot(data,'unit_of_wage', 'case_status') "
   ]
  },
  {
   "cell_type": "markdown",
   "id": "ca1f03b9",
   "metadata": {},
   "source": [
    "* Unit of prevailing wage is an important factor for differentiating between a certified and a denied visa application.\n",
    "* If the unit of prevailing wage is Yearly, there's a high chance of the application getting certified.\n",
    "* Around 75% of the applications were certified for the applicants who have a yearly unit of wage. While only 35% of the applications were certified for applicants who have an hourly unit of wage.\n",
    "* Monthly and Weekly units of prevailing wage have the same percentage of visa applications getting certified."
   ]
  },
  {
   "cell_type": "markdown",
   "id": "allied-association",
   "metadata": {
    "id": "allied-association"
   },
   "source": [
    "### Outlier Check\n",
    "\n",
    "- Let's check for outliers in the data."
   ]
  },
  {
   "cell_type": "code",
   "execution_count": 41,
   "id": "certified-complaint",
   "metadata": {
    "id": "certified-complaint"
   },
   "outputs": [
    {
     "data": {
      "image/png": "[encoded data removed]",
      "text/plain": [
       "<Figure size 1080x864 with 3 Axes>"
      ]
     },
     "metadata": {
      "needs_background": "light"
     },
     "output_type": "display_data"
    }
   ],
   "source": [
    "# outlier detection using boxplot\n",
    "numeric_columns = data.select_dtypes(include=np.number).columns.tolist()\n",
    " ## Let us create boxplots for all the numeric columns\n",
    "plt.figure(figsize=(15, 12))\n",
    "\n",
    "for i, variable in enumerate(numeric_columns):\n",
    "    plt.subplot(5, 4, i + 1)\n",
    "    # boxplot\n",
    "    plt.boxplot(data[variable], whis=1.5)\n",
    "    # plot layout\n",
    "    plt.tight_layout()\n",
    "    # plot title\n",
    "    plt.title(variable)\n",
    "# show the plot\n",
    "plt.show()"
   ]
  },
  {
   "cell_type": "markdown",
   "id": "bef5024e",
   "metadata": {},
   "source": [
    "   **Observations**\n",
    "\n",
    "- There are quite a few outliers in the data.\n",
    "- However, we will not treat them as they are proper values. "
   ]
  },
  {
   "cell_type": "markdown",
   "id": "flexible-independence",
   "metadata": {
    "id": "flexible-independence"
   },
   "source": [
    "### Data Preparation for modeling\n",
    "\n",
    "- We want to predict which visa will be certified.\n",
    "- Before we proceed to build a model, we'll have to encode categorical features.\n",
    "- We'll split the data into train and test to be able to evaluate the model that we build on the train data."
   ]
  },
  {
   "cell_type": "code",
   "execution_count": 42,
   "id": "9d9acf1c",
   "metadata": {},
   "outputs": [
    {
     "data": {
      "text/html": [
       "<div>\n",
       "<style scoped>\n",
       "    .dataframe tbody tr th:only-of-type {\n",
       "        vertical-align: middle;\n",
       "    }\n",
       "\n",
       "    .dataframe tbody tr th {\n",
       "        vertical-align: top;\n",
       "    }\n",
       "\n",
       "    .dataframe thead th {\n",
       "        text-align: right;\n",
       "    }\n",
       "</style>\n",
       "<table border=\"1\" class=\"dataframe\">\n",
       "  <thead>\n",
       "    <tr style=\"text-align: right;\">\n",
       "      <th></th>\n",
       "      <th>continent</th>\n",
       "      <th>education_of_employee</th>\n",
       "      <th>has_job_experience</th>\n",
       "      <th>requires_job_training</th>\n",
       "      <th>no_of_employees</th>\n",
       "      <th>yr_of_estab</th>\n",
       "      <th>region_of_employment</th>\n",
       "      <th>prevailing_wage</th>\n",
       "      <th>unit_of_wage</th>\n",
       "      <th>full_time_position</th>\n",
       "      <th>case_status</th>\n",
       "    </tr>\n",
       "  </thead>\n",
       "  <tbody>\n",
       "    <tr>\n",
       "      <th>0</th>\n",
       "      <td>Asia</td>\n",
       "      <td>High School</td>\n",
       "      <td>N</td>\n",
       "      <td>N</td>\n",
       "      <td>14513</td>\n",
       "      <td>2007</td>\n",
       "      <td>West</td>\n",
       "      <td>592.2029</td>\n",
       "      <td>Hour</td>\n",
       "      <td>Y</td>\n",
       "      <td>0</td>\n",
       "    </tr>\n",
       "    <tr>\n",
       "      <th>1</th>\n",
       "      <td>Asia</td>\n",
       "      <td>Master's</td>\n",
       "      <td>Y</td>\n",
       "      <td>N</td>\n",
       "      <td>2412</td>\n",
       "      <td>2002</td>\n",
       "      <td>Northeast</td>\n",
       "      <td>83425.6500</td>\n",
       "      <td>Year</td>\n",
       "      <td>Y</td>\n",
       "      <td>1</td>\n",
       "    </tr>\n",
       "    <tr>\n",
       "      <th>2</th>\n",
       "      <td>Asia</td>\n",
       "      <td>Bachelor's</td>\n",
       "      <td>N</td>\n",
       "      <td>Y</td>\n",
       "      <td>44444</td>\n",
       "      <td>2008</td>\n",
       "      <td>West</td>\n",
       "      <td>122996.8600</td>\n",
       "      <td>Year</td>\n",
       "      <td>Y</td>\n",
       "      <td>0</td>\n",
       "    </tr>\n",
       "    <tr>\n",
       "      <th>3</th>\n",
       "      <td>Asia</td>\n",
       "      <td>Bachelor's</td>\n",
       "      <td>N</td>\n",
       "      <td>N</td>\n",
       "      <td>98</td>\n",
       "      <td>1897</td>\n",
       "      <td>West</td>\n",
       "      <td>83434.0300</td>\n",
       "      <td>Year</td>\n",
       "      <td>Y</td>\n",
       "      <td>0</td>\n",
       "    </tr>\n",
       "    <tr>\n",
       "      <th>4</th>\n",
       "      <td>Africa</td>\n",
       "      <td>Master's</td>\n",
       "      <td>Y</td>\n",
       "      <td>N</td>\n",
       "      <td>1082</td>\n",
       "      <td>2005</td>\n",
       "      <td>South</td>\n",
       "      <td>149907.3900</td>\n",
       "      <td>Year</td>\n",
       "      <td>Y</td>\n",
       "      <td>1</td>\n",
       "    </tr>\n",
       "  </tbody>\n",
       "</table>\n",
       "</div>"
      ],
      "text/plain": [
       "  continent education_of_employee has_job_experience requires_job_training  \\\n",
       "0      Asia           High School                  N                     N   \n",
       "1      Asia              Master's                  Y                     N   \n",
       "2      Asia            Bachelor's                  N                     Y   \n",
       "3      Asia            Bachelor's                  N                     N   \n",
       "4    Africa              Master's                  Y                     N   \n",
       "\n",
       "   no_of_employees  yr_of_estab region_of_employment  prevailing_wage  \\\n",
       "0            14513         2007                 West         592.2029   \n",
       "1             2412         2002            Northeast       83425.6500   \n",
       "2            44444         2008                 West      122996.8600   \n",
       "3               98         1897                 West       83434.0300   \n",
       "4             1082         2005                South      149907.3900   \n",
       "\n",
       "  unit_of_wage full_time_position  case_status  \n",
       "0         Hour                  Y            0  \n",
       "1         Year                  Y            1  \n",
       "2         Year                  Y            0  \n",
       "3         Year                  Y            0  \n",
       "4         Year                  Y            1  "
      ]
     },
     "execution_count": 42,
     "metadata": {},
     "output_type": "execute_result"
    }
   ],
   "source": [
    "data[\"case_status\"] = data[\"case_status\"].apply(lambda x: 1 if x == \"Certified\" else 0)\n",
    "data.head()"
   ]
  },
  {
   "cell_type": "code",
   "execution_count": 43,
   "id": "genuine-evening",
   "metadata": {
    "id": "genuine-evening"
   },
   "outputs": [],
   "source": [
    "## Let's drop case status from the data\n",
    "X = data.drop([\"case_status\"], axis=1) \n",
    "y = data[\"case_status\"]\n",
    "\n",
    "## Let's create dummies\n",
    "X = pd.get_dummies(X, drop_first=True)  \n",
    "\n",
    "## Let's split the data into train and test in the ratio 70:30\n",
    "# Splitting data in train and test sets\n",
    "X_train, X_test, y_train, y_test = train_test_split(X, y, test_size=0.3, random_state=1, stratify=y) "
   ]
  },
  {
   "cell_type": "code",
   "execution_count": 44,
   "id": "empty-typing",
   "metadata": {
    "id": "empty-typing",
    "scrolled": false
   },
   "outputs": [
    {
     "name": "stdout",
     "output_type": "stream",
     "text": [
      "Shape of Training set :  (17836, 21)\n",
      "Shape of test set :  (7644, 21)\n",
      "Percentage of classes in training set:\n",
      "1    0.667919\n",
      "0    0.332081\n",
      "Name: case_status, dtype: float64\n",
      "Percentage of classes in test set:\n",
      "1    0.667844\n",
      "0    0.332156\n",
      "Name: case_status, dtype: float64\n"
     ]
    }
   ],
   "source": [
    "print(\"Shape of Training set : \", X_train.shape)\n",
    "print(\"Shape of test set : \", X_test.shape)\n",
    "print(\"Percentage of classes in training set:\")\n",
    "print(y_train.value_counts(normalize=True))\n",
    "print(\"Percentage of classes in test set:\")\n",
    "print(y_test.value_counts(normalize=True))"
   ]
  },
  {
   "cell_type": "markdown",
   "id": "71450807",
   "metadata": {},
   "source": [
    "### Model evaluation criterion\n",
    "\n",
    "### Model can make wrong predictions as:\n",
    "\n",
    "1. Model predicts that the visa application will get certified but in reality, the visa application should get denied.\n",
    "2. Model predicts that the visa application will not get certified but in reality, the visa application should get certified. \n",
    "\n",
    "### Which case is more important? \n",
    "* Both the cases are important as:\n",
    "\n",
    "* If a visa is certified when it had to be denied a wrong employee will get the job position while US citizens will miss the opportunity to work on that position.\n",
    "\n",
    "* If a visa is denied when it had to be certified the U.S. will lose a suitable human resource that can contribute to the economy. \n",
    "\n",
    "\n",
    "\n",
    "### How to reduce the losses?\n",
    "\n",
    "* `F1 Score` can be used a the metric for evaluation of the model, greater the F1  score higher are the chances of minimizing False Negatives and False Positives. \n",
    "* We will use balanced class weights so that model focuses equally on both classes."
   ]
  },
  {
   "cell_type": "markdown",
   "id": "capital-charlotte",
   "metadata": {
    "id": "capital-charlotte"
   },
   "source": [
    "#### First, let's create functions to calculate different metrics and confusion matrix so that we don't have to use the same code repeatedly for each model.\n",
    "* The model_performance_classification_sklearn function will be used to check the model performance of models. \n",
    "* The confusion_matrix_sklearn function will be used to plot the confusion matrix."
   ]
  },
  {
   "cell_type": "code",
   "execution_count": 45,
   "id": "mexican-database",
   "metadata": {
    "id": "mexican-database"
   },
   "outputs": [],
   "source": [
    "# defining a function to compute different metrics to check performance of a classification model built using sklearn\n",
    "\n",
    "\n",
    "def model_performance_classification_sklearn(model, predictors, target):\n",
    "    \"\"\"\n",
    "    Function to compute different metrics to check classification model performance\n",
    "\n",
    "    model: classifier\n",
    "    predictors: independent variables\n",
    "    target: dependent variable\n",
    "    \"\"\"\n",
    "\n",
    "    # predicting using the independent variables\n",
    "    pred = model.predict(predictors)\n",
    "\n",
    "    acc = accuracy_score(target, pred)  # to compute Accuracy\n",
    "    recall = recall_score(target, pred)  # to compute Recall\n",
    "    precision = precision_score(target, pred)  # to compute Precision\n",
    "    f1 = f1_score(target, pred)  # to compute F1-score\n",
    "\n",
    "    # creating a dataframe of metrics\n",
    "    df_perf = pd.DataFrame(\n",
    "        {\"Accuracy\": acc, \"Recall\": recall, \"Precision\": precision, \"F1\": f1,},\n",
    "        index=[0],\n",
    "    )\n",
    "\n",
    "    return df_perf"
   ]
  },
  {
   "cell_type": "code",
   "execution_count": 46,
   "id": "recreational-topic",
   "metadata": {
    "id": "recreational-topic"
   },
   "outputs": [],
   "source": [
    "def confusion_matrix_sklearn(model, predictors, target):\n",
    "    \"\"\"\n",
    "    To plot the confusion_matrix with percentages\n",
    "\n",
    "    model: classifier\n",
    "    predictors: independent variables\n",
    "    target: dependent variable\n",
    "    \"\"\"\n",
    "    y_pred = model.predict(predictors)\n",
    "    cm = confusion_matrix(target, y_pred)\n",
    "    labels = np.asarray(\n",
    "        [\n",
    "            [\"{0:0.0f}\".format(item) + \"\\n{0:.2%}\".format(item / cm.flatten().sum())]\n",
    "            for item in cm.flatten()\n",
    "        ]\n",
    "    ).reshape(2, 2)\n",
    "\n",
    "    plt.figure(figsize=(6, 4))\n",
    "    sns.heatmap(cm, annot=labels, fmt=\"\")\n",
    "    plt.ylabel(\"True label\")\n",
    "    plt.xlabel(\"Predicted label\")"
   ]
  },
  {
   "cell_type": "markdown",
   "id": "blank-ballet",
   "metadata": {
    "id": "blank-ballet"
   },
   "source": [
    "### Decision Tree Model"
   ]
  },
  {
   "cell_type": "code",
   "execution_count": 47,
   "id": "hourly-hormone",
   "metadata": {
    "id": "hourly-hormone"
   },
   "outputs": [
    {
     "data": {
      "text/plain": [
       "DecisionTreeClassifier(random_state=1)"
      ]
     },
     "execution_count": 47,
     "metadata": {},
     "output_type": "execute_result"
    }
   ],
   "source": [
    "## Let's define decision tree classifier with random state = 1 on training dataset\n",
    "                             \n",
    "#Fitting the model Decision Tree model\n",
    "dtree = DecisionTreeClassifier(random_state=1)\n",
    "dtree.fit(X_train, y_train)"
   ]
  },
  {
   "cell_type": "markdown",
   "id": "increasing-diversity",
   "metadata": {
    "id": "increasing-diversity"
   },
   "source": [
    "#### Checking model performance on training set"
   ]
  },
  {
   "cell_type": "code",
   "execution_count": 48,
   "id": "irish-noise",
   "metadata": {
    "id": "irish-noise"
   },
   "outputs": [
    {
     "data": {
      "image/png": "[encoded data removed]",
      "text/plain": [
       "<Figure size 432x288 with 2 Axes>"
      ]
     },
     "metadata": {
      "needs_background": "light"
     },
     "output_type": "display_data"
    }
   ],
   "source": [
    "## Complete the code to create confusion matrix for train data\n",
    "confusion_matrix_sklearn(dtree, X_train, y_train)"
   ]
  },
  {
   "cell_type": "code",
   "execution_count": 49,
   "id": "multiple-union",
   "metadata": {
    "id": "multiple-union"
   },
   "outputs": [
    {
     "data": {
      "text/html": [
       "<div>\n",
       "<style scoped>\n",
       "    .dataframe tbody tr th:only-of-type {\n",
       "        vertical-align: middle;\n",
       "    }\n",
       "\n",
       "    .dataframe tbody tr th {\n",
       "        vertical-align: top;\n",
       "    }\n",
       "\n",
       "    .dataframe thead th {\n",
       "        text-align: right;\n",
       "    }\n",
       "</style>\n",
       "<table border=\"1\" class=\"dataframe\">\n",
       "  <thead>\n",
       "    <tr style=\"text-align: right;\">\n",
       "      <th></th>\n",
       "      <th>Accuracy</th>\n",
       "      <th>Recall</th>\n",
       "      <th>Precision</th>\n",
       "      <th>F1</th>\n",
       "    </tr>\n",
       "  </thead>\n",
       "  <tbody>\n",
       "    <tr>\n",
       "      <th>0</th>\n",
       "      <td>1.0</td>\n",
       "      <td>1.0</td>\n",
       "      <td>1.0</td>\n",
       "      <td>1.0</td>\n",
       "    </tr>\n",
       "  </tbody>\n",
       "</table>\n",
       "</div>"
      ],
      "text/plain": [
       "   Accuracy  Recall  Precision   F1\n",
       "0       1.0     1.0        1.0  1.0"
      ]
     },
     "execution_count": 49,
     "metadata": {},
     "output_type": "execute_result"
    }
   ],
   "source": [
    "## Let's check the performance on train data\n",
    "decision_tree_perf_train = model_performance_classification_sklearn(dtree, X_train, y_train) \n",
    "decision_tree_perf_train"
   ]
  },
  {
   "cell_type": "markdown",
   "id": "e0059225",
   "metadata": {},
   "source": [
    "* 0 errors on the training set, each sample has been classified correctly.\n",
    "* Model has performed very well on the training set.\n",
    "* As we know, a decision tree will continue to grow and classify each data point correctly if no restrictions are applied as the trees will learn all the patterns in the training set.\n",
    "* Let's check the performance on test data to see if the model is overfitting."
   ]
  },
  {
   "cell_type": "markdown",
   "id": "material-reduction",
   "metadata": {
    "id": "material-reduction"
   },
   "source": [
    "#### Checking model performance on test set"
   ]
  },
  {
   "cell_type": "code",
   "execution_count": 50,
   "id": "touched-survey",
   "metadata": {
    "id": "touched-survey"
   },
   "outputs": [
    {
     "data": {
      "image/png": "[encoded data removed]",
      "text/plain": [
       "<Figure size 432x288 with 2 Axes>"
      ]
     },
     "metadata": {
      "needs_background": "light"
     },
     "output_type": "display_data"
    }
   ],
   "source": [
    "## Let's create confusion matrix for test data\n",
    "confusion_matrix_sklearn(dtree, X_test, y_test)"
   ]
  },
  {
   "cell_type": "code",
   "execution_count": 51,
   "id": "perceived-memorial",
   "metadata": {
    "id": "perceived-memorial"
   },
   "outputs": [
    {
     "data": {
      "text/html": [
       "<div>\n",
       "<style scoped>\n",
       "    .dataframe tbody tr th:only-of-type {\n",
       "        vertical-align: middle;\n",
       "    }\n",
       "\n",
       "    .dataframe tbody tr th {\n",
       "        vertical-align: top;\n",
       "    }\n",
       "\n",
       "    .dataframe thead th {\n",
       "        text-align: right;\n",
       "    }\n",
       "</style>\n",
       "<table border=\"1\" class=\"dataframe\">\n",
       "  <thead>\n",
       "    <tr style=\"text-align: right;\">\n",
       "      <th></th>\n",
       "      <th>Accuracy</th>\n",
       "      <th>Recall</th>\n",
       "      <th>Precision</th>\n",
       "      <th>F1</th>\n",
       "    </tr>\n",
       "  </thead>\n",
       "  <tbody>\n",
       "    <tr>\n",
       "      <th>0</th>\n",
       "      <td>0.664835</td>\n",
       "      <td>0.742801</td>\n",
       "      <td>0.752232</td>\n",
       "      <td>0.747487</td>\n",
       "    </tr>\n",
       "  </tbody>\n",
       "</table>\n",
       "</div>"
      ],
      "text/plain": [
       "   Accuracy    Recall  Precision        F1\n",
       "0  0.664835  0.742801   0.752232  0.747487"
      ]
     },
     "execution_count": 51,
     "metadata": {},
     "output_type": "execute_result"
    }
   ],
   "source": [
    "## Let's check performance for test data\n",
    "decision_tree_perf_test = model_performance_classification_sklearn(dtree, X_test, y_test)\n",
    "decision_tree_perf_test"
   ]
  },
  {
   "cell_type": "markdown",
   "id": "03590aa1",
   "metadata": {},
   "source": [
    "* The decision tree model is overfitting the data as expected and not able to generalize well on the test set.\n",
    "* We will have to prune the decision tree."
   ]
  },
  {
   "cell_type": "markdown",
   "id": "protected-romantic",
   "metadata": {
    "id": "protected-romantic"
   },
   "source": [
    "### Hyperparameter Tuning - Decision Tree"
   ]
  },
  {
   "cell_type": "code",
   "execution_count": 52,
   "id": "tested-building",
   "metadata": {
    "id": "tested-building"
   },
   "outputs": [
    {
     "data": {
      "text/plain": [
       "DecisionTreeClassifier(class_weight='balanced', max_depth=10, max_leaf_nodes=2,\n",
       "                       min_impurity_decrease=0.0001, min_samples_leaf=3,\n",
       "                       random_state=1)"
      ]
     },
     "execution_count": 52,
     "metadata": {},
     "output_type": "execute_result"
    }
   ],
   "source": [
    "# Choose the type of classifier.\n",
    "dtree_estimator = DecisionTreeClassifier(class_weight=\"balanced\", random_state=1)\n",
    "\n",
    "# Grid of parameters to choose from\n",
    "parameters = {\n",
    "    \"max_depth\": np.arange(10, 30, 5),\n",
    "    \"min_samples_leaf\": [3, 5, 7],\n",
    "    \"max_leaf_nodes\": [2, 3, 5],\n",
    "    \"min_impurity_decrease\": [0.0001, 0.001],\n",
    "}\n",
    "\n",
    "# Type of scoring used to compare parameter combinations\n",
    "scorer = metrics.make_scorer(metrics.f1_score)\n",
    "\n",
    "## Run grid search with n_jobs = -1\n",
    "grid_obj = GridSearchCV(dtree_estimator, parameters, scoring=scorer, n_jobs=-1)  \n",
    "\n",
    "## Code to fit the grid_obj on the train data\n",
    "grid_obj = grid_obj.fit(X_train, y_train)\n",
    "\n",
    "# Set the clf to the best combination of parameters\n",
    "dtree_estimator = grid_obj.best_estimator_\n",
    "\n",
    "# Fit the best algorithm to the data.\n",
    "dtree_estimator.fit(X_train, y_train)"
   ]
  },
  {
   "cell_type": "code",
   "execution_count": 53,
   "id": "affected-thailand",
   "metadata": {
    "id": "affected-thailand"
   },
   "outputs": [
    {
     "data": {
      "image/png": "[encoded data removed]",
      "text/plain": [
       "<Figure size 432x288 with 2 Axes>"
      ]
     },
     "metadata": {
      "needs_background": "light"
     },
     "output_type": "display_data"
    }
   ],
   "source": [
    "## Let's create confusion matrix for train data on tuned estimator\n",
    "confusion_matrix_sklearn(dtree_estimator, X_train,y_train)"
   ]
  },
  {
   "cell_type": "code",
   "execution_count": 54,
   "id": "enormous-hunger",
   "metadata": {
    "id": "enormous-hunger"
   },
   "outputs": [
    {
     "data": {
      "text/html": [
       "<div>\n",
       "<style scoped>\n",
       "    .dataframe tbody tr th:only-of-type {\n",
       "        vertical-align: middle;\n",
       "    }\n",
       "\n",
       "    .dataframe tbody tr th {\n",
       "        vertical-align: top;\n",
       "    }\n",
       "\n",
       "    .dataframe thead th {\n",
       "        text-align: right;\n",
       "    }\n",
       "</style>\n",
       "<table border=\"1\" class=\"dataframe\">\n",
       "  <thead>\n",
       "    <tr style=\"text-align: right;\">\n",
       "      <th></th>\n",
       "      <th>Accuracy</th>\n",
       "      <th>Recall</th>\n",
       "      <th>Precision</th>\n",
       "      <th>F1</th>\n",
       "    </tr>\n",
       "  </thead>\n",
       "  <tbody>\n",
       "    <tr>\n",
       "      <th>0</th>\n",
       "      <td>0.712548</td>\n",
       "      <td>0.931923</td>\n",
       "      <td>0.720067</td>\n",
       "      <td>0.812411</td>\n",
       "    </tr>\n",
       "  </tbody>\n",
       "</table>\n",
       "</div>"
      ],
      "text/plain": [
       "   Accuracy    Recall  Precision        F1\n",
       "0  0.712548  0.931923   0.720067  0.812411"
      ]
     },
     "execution_count": 54,
     "metadata": {},
     "output_type": "execute_result"
    }
   ],
   "source": [
    "## Let's check performance\n",
    "dtree_estimator_model_train_perf = model_performance_classification_sklearn(dtree_estimator, X_train,y_train) \n",
    "dtree_estimator_model_train_perf"
   ]
  },
  {
   "cell_type": "code",
   "execution_count": 55,
   "id": "stone-maker",
   "metadata": {
    "id": "stone-maker"
   },
   "outputs": [
    {
     "data": {
      "image/png": "[encoded data removed]",
      "text/plain": [
       "<Figure size 432x288 with 2 Axes>"
      ]
     },
     "metadata": {
      "needs_background": "light"
     },
     "output_type": "display_data"
    }
   ],
   "source": [
    "## Let's create confusion matrix for test data on tuned estimator\n",
    "confusion_matrix_sklearn(dtree_estimator, X_test,y_test) \n"
   ]
  },
  {
   "cell_type": "code",
   "execution_count": 56,
   "id": "together-pittsburgh",
   "metadata": {
    "id": "together-pittsburgh"
   },
   "outputs": [
    {
     "data": {
      "text/html": [
       "<div>\n",
       "<style scoped>\n",
       "    .dataframe tbody tr th:only-of-type {\n",
       "        vertical-align: middle;\n",
       "    }\n",
       "\n",
       "    .dataframe tbody tr th {\n",
       "        vertical-align: top;\n",
       "    }\n",
       "\n",
       "    .dataframe thead th {\n",
       "        text-align: right;\n",
       "    }\n",
       "</style>\n",
       "<table border=\"1\" class=\"dataframe\">\n",
       "  <thead>\n",
       "    <tr style=\"text-align: right;\">\n",
       "      <th></th>\n",
       "      <th>Accuracy</th>\n",
       "      <th>Recall</th>\n",
       "      <th>Precision</th>\n",
       "      <th>F1</th>\n",
       "    </tr>\n",
       "  </thead>\n",
       "  <tbody>\n",
       "    <tr>\n",
       "      <th>0</th>\n",
       "      <td>0.706567</td>\n",
       "      <td>0.930852</td>\n",
       "      <td>0.715447</td>\n",
       "      <td>0.809058</td>\n",
       "    </tr>\n",
       "  </tbody>\n",
       "</table>\n",
       "</div>"
      ],
      "text/plain": [
       "   Accuracy    Recall  Precision        F1\n",
       "0  0.706567  0.930852   0.715447  0.809058"
      ]
     },
     "execution_count": 56,
     "metadata": {},
     "output_type": "execute_result"
    }
   ],
   "source": [
    "## Let's check performance for test data on tuned estimator\n",
    "dtree_estimator_model_test_perf = model_performance_classification_sklearn(dtree_estimator, X_test, y_test) \n",
    "dtree_estimator_model_test_perf"
   ]
  },
  {
   "cell_type": "markdown",
   "id": "4f2b3567",
   "metadata": {},
   "source": [
    "* The decision tree model has a very high recall but, the precision is quite less.\n",
    "* The performance of the model after hyperparameter tuning has become generalized.\n",
    "* We are getting an F1 score of 0.812 and 0.809 on the training and test set, respectively.\n",
    "* Let's try building some ensemble models and see if the metrics improve."
   ]
  },
  {
   "cell_type": "markdown",
   "id": "aging-corruption",
   "metadata": {
    "id": "aging-corruption"
   },
   "source": [
    "### Bagging Classifier"
   ]
  },
  {
   "cell_type": "code",
   "execution_count": 57,
   "id": "postal-angle",
   "metadata": {
    "id": "postal-angle"
   },
   "outputs": [
    {
     "data": {
      "text/plain": [
       "BaggingClassifier(random_state=1)"
      ]
     },
     "execution_count": 57,
     "metadata": {},
     "output_type": "execute_result"
    }
   ],
   "source": [
    "## Let's define bagging classifier with random state = 1\n",
    "bagging_classifier = BaggingClassifier(random_state=1)  \n",
    "## Let's fit bagging classifier on the train data\n",
    "bagging_classifier.fit(X_train,y_train)"
   ]
  },
  {
   "cell_type": "markdown",
   "id": "suffering-growing",
   "metadata": {
    "id": "suffering-growing"
   },
   "source": [
    "#### Checking model performance on training set"
   ]
  },
  {
   "cell_type": "code",
   "execution_count": 58,
   "id": "extraordinary-festival",
   "metadata": {
    "id": "extraordinary-festival"
   },
   "outputs": [
    {
     "data": {
      "image/png": "[encoded data removed]",
      "text/plain": [
       "<Figure size 432x288 with 2 Axes>"
      ]
     },
     "metadata": {
      "needs_background": "light"
     },
     "output_type": "display_data"
    }
   ],
   "source": [
    "## Let's create confusion matrix for train data\n",
    "confusion_matrix_sklearn(bagging_classifier, X_train, y_train)"
   ]
  },
  {
   "cell_type": "code",
   "execution_count": 59,
   "id": "further-yemen",
   "metadata": {
    "id": "further-yemen"
   },
   "outputs": [
    {
     "data": {
      "text/html": [
       "<div>\n",
       "<style scoped>\n",
       "    .dataframe tbody tr th:only-of-type {\n",
       "        vertical-align: middle;\n",
       "    }\n",
       "\n",
       "    .dataframe tbody tr th {\n",
       "        vertical-align: top;\n",
       "    }\n",
       "\n",
       "    .dataframe thead th {\n",
       "        text-align: right;\n",
       "    }\n",
       "</style>\n",
       "<table border=\"1\" class=\"dataframe\">\n",
       "  <thead>\n",
       "    <tr style=\"text-align: right;\">\n",
       "      <th></th>\n",
       "      <th>Accuracy</th>\n",
       "      <th>Recall</th>\n",
       "      <th>Precision</th>\n",
       "      <th>F1</th>\n",
       "    </tr>\n",
       "  </thead>\n",
       "  <tbody>\n",
       "    <tr>\n",
       "      <th>0</th>\n",
       "      <td>0.985198</td>\n",
       "      <td>0.985982</td>\n",
       "      <td>0.99181</td>\n",
       "      <td>0.988887</td>\n",
       "    </tr>\n",
       "  </tbody>\n",
       "</table>\n",
       "</div>"
      ],
      "text/plain": [
       "   Accuracy    Recall  Precision        F1\n",
       "0  0.985198  0.985982    0.99181  0.988887"
      ]
     },
     "execution_count": 59,
     "metadata": {},
     "output_type": "execute_result"
    }
   ],
   "source": [
    "## Let's check performance on train data\n",
    "bagging_classifier_model_train_perf = model_performance_classification_sklearn(bagging_classifier, X_train, y_train) \n",
    "bagging_classifier_model_train_perf"
   ]
  },
  {
   "cell_type": "markdown",
   "id": "verified-obligation",
   "metadata": {
    "id": "verified-obligation"
   },
   "source": [
    "#### Checking model performance on test set"
   ]
  },
  {
   "cell_type": "code",
   "execution_count": 60,
   "id": "weird-wesley",
   "metadata": {
    "id": "weird-wesley"
   },
   "outputs": [
    {
     "data": {
      "image/png": "[encoded data removed]",
      "text/plain": [
       "<Figure size 432x288 with 2 Axes>"
      ]
     },
     "metadata": {
      "needs_background": "light"
     },
     "output_type": "display_data"
    }
   ],
   "source": [
    "## Let's create confusion matrix for test data\n",
    "confusion_matrix_sklearn(bagging_classifier, X_test, y_test) "
   ]
  },
  {
   "cell_type": "code",
   "execution_count": 61,
   "id": "handy-nature",
   "metadata": {
    "id": "handy-nature"
   },
   "outputs": [
    {
     "data": {
      "text/html": [
       "<div>\n",
       "<style scoped>\n",
       "    .dataframe tbody tr th:only-of-type {\n",
       "        vertical-align: middle;\n",
       "    }\n",
       "\n",
       "    .dataframe tbody tr th {\n",
       "        vertical-align: top;\n",
       "    }\n",
       "\n",
       "    .dataframe thead th {\n",
       "        text-align: right;\n",
       "    }\n",
       "</style>\n",
       "<table border=\"1\" class=\"dataframe\">\n",
       "  <thead>\n",
       "    <tr style=\"text-align: right;\">\n",
       "      <th></th>\n",
       "      <th>Accuracy</th>\n",
       "      <th>Recall</th>\n",
       "      <th>Precision</th>\n",
       "      <th>F1</th>\n",
       "    </tr>\n",
       "  </thead>\n",
       "  <tbody>\n",
       "    <tr>\n",
       "      <th>0</th>\n",
       "      <td>0.691523</td>\n",
       "      <td>0.764153</td>\n",
       "      <td>0.771711</td>\n",
       "      <td>0.767913</td>\n",
       "    </tr>\n",
       "  </tbody>\n",
       "</table>\n",
       "</div>"
      ],
      "text/plain": [
       "   Accuracy    Recall  Precision        F1\n",
       "0  0.691523  0.764153   0.771711  0.767913"
      ]
     },
     "execution_count": 61,
     "metadata": {},
     "output_type": "execute_result"
    }
   ],
   "source": [
    "## Let's check performance for test data\n",
    "bagging_classifier_model_test_perf = model_performance_classification_sklearn(bagging_classifier, X_test, y_test) \n",
    "bagging_classifier_model_test_perf"
   ]
  },
  {
   "cell_type": "markdown",
   "id": "b715e744",
   "metadata": {},
   "source": [
    "* The bagging classifier is overfitting on the training set like the decision tree model.\n",
    "* We'll try to reduce overfitting and improve the performance by hyperparameter tuning."
   ]
  },
  {
   "cell_type": "markdown",
   "id": "increased-civilian",
   "metadata": {
    "id": "increased-civilian"
   },
   "source": [
    "### Hyperparameter Tuning - Bagging Classifier"
   ]
  },
  {
   "cell_type": "code",
   "execution_count": 62,
   "id": "coastal-jefferson",
   "metadata": {
    "id": "coastal-jefferson"
   },
   "outputs": [
    {
     "data": {
      "text/plain": [
       "BaggingClassifier(max_features=0.7, max_samples=0.7, n_estimators=120,\n",
       "                  random_state=1)"
      ]
     },
     "execution_count": 62,
     "metadata": {},
     "output_type": "execute_result"
    }
   ],
   "source": [
    "# Choose the type of classifier.\n",
    "bagging_estimator_tuned = BaggingClassifier(random_state=1)\n",
    "\n",
    "# Grid of parameters to choose from\n",
    "parameters = {\n",
    "    \"max_samples\": [0.7, 0.8, 0.9],\n",
    "    \"max_features\": [0.7, 0.8, 0.9],\n",
    "    \"n_estimators\": [90, 120, 10],\n",
    "}\n",
    "\n",
    "# Type of scoring used to compare parameter combinations\n",
    "acc_scorer = metrics.make_scorer(metrics.f1_score)\n",
    "\n",
    "## run grid search with cv=5\n",
    "grid_obj = GridSearchCV(bagging_estimator_tuned, parameters, scoring=scorer,cv=5) \n",
    "\n",
    "## Fit the grid_obj on train data\n",
    "grid_obj = grid_obj.fit(X_train, y_train) \n",
    "\n",
    "# Set the clf to the best combination of parameters\n",
    "bagging_estimator_tuned = grid_obj.best_estimator_\n",
    "\n",
    "# Fit the best algorithm to the data.\n",
    "bagging_estimator_tuned.fit(X_train, y_train)"
   ]
  },
  {
   "cell_type": "markdown",
   "id": "protecting-douglas",
   "metadata": {
    "id": "protecting-douglas"
   },
   "source": [
    "#### Checking model performance on training set"
   ]
  },
  {
   "cell_type": "code",
   "execution_count": 63,
   "id": "nominated-overhead",
   "metadata": {
    "id": "nominated-overhead"
   },
   "outputs": [
    {
     "data": {
      "image/png": "[encoded data removed]",
      "text/plain": [
       "<Figure size 432x288 with 2 Axes>"
      ]
     },
     "metadata": {
      "needs_background": "light"
     },
     "output_type": "display_data"
    }
   ],
   "source": [
    "## Let's create confusion matrix for train data on tuned estimator\n",
    "confusion_matrix_sklearn(bagging_estimator_tuned,X_train,y_train)"
   ]
  },
  {
   "cell_type": "code",
   "execution_count": 64,
   "id": "fundamental-newport",
   "metadata": {
    "id": "fundamental-newport"
   },
   "outputs": [
    {
     "data": {
      "text/html": [
       "<div>\n",
       "<style scoped>\n",
       "    .dataframe tbody tr th:only-of-type {\n",
       "        vertical-align: middle;\n",
       "    }\n",
       "\n",
       "    .dataframe tbody tr th {\n",
       "        vertical-align: top;\n",
       "    }\n",
       "\n",
       "    .dataframe thead th {\n",
       "        text-align: right;\n",
       "    }\n",
       "</style>\n",
       "<table border=\"1\" class=\"dataframe\">\n",
       "  <thead>\n",
       "    <tr style=\"text-align: right;\">\n",
       "      <th></th>\n",
       "      <th>Accuracy</th>\n",
       "      <th>Recall</th>\n",
       "      <th>Precision</th>\n",
       "      <th>F1</th>\n",
       "    </tr>\n",
       "  </thead>\n",
       "  <tbody>\n",
       "    <tr>\n",
       "      <th>0</th>\n",
       "      <td>0.995627</td>\n",
       "      <td>0.999916</td>\n",
       "      <td>0.993577</td>\n",
       "      <td>0.996737</td>\n",
       "    </tr>\n",
       "  </tbody>\n",
       "</table>\n",
       "</div>"
      ],
      "text/plain": [
       "   Accuracy    Recall  Precision        F1\n",
       "0  0.995627  0.999916   0.993577  0.996737"
      ]
     },
     "execution_count": 64,
     "metadata": {},
     "output_type": "execute_result"
    }
   ],
   "source": [
    "## Let's check performance for train data on tuned estimator\n",
    "bagging_estimator_tuned_model_train_perf = model_performance_classification_sklearn(bagging_estimator_tuned,X_train,y_train) \n",
    "bagging_estimator_tuned_model_train_perf"
   ]
  },
  {
   "cell_type": "markdown",
   "id": "elegant-bookmark",
   "metadata": {
    "id": "elegant-bookmark"
   },
   "source": [
    "#### Checking model performance on test set"
   ]
  },
  {
   "cell_type": "code",
   "execution_count": 65,
   "id": "later-setup",
   "metadata": {
    "id": "later-setup"
   },
   "outputs": [],
   "source": [
    "## Let's create confusion matrix for test data on tuned estimator\n",
    "bagging_estimator_tuned_model_train_perf = model_performance_classification_sklearn(bagging_estimator_tuned,X_train,y_train) "
   ]
  },
  {
   "cell_type": "code",
   "execution_count": 66,
   "id": "discrete-immigration",
   "metadata": {
    "id": "discrete-immigration"
   },
   "outputs": [
    {
     "data": {
      "text/html": [
       "<div>\n",
       "<style scoped>\n",
       "    .dataframe tbody tr th:only-of-type {\n",
       "        vertical-align: middle;\n",
       "    }\n",
       "\n",
       "    .dataframe tbody tr th {\n",
       "        vertical-align: top;\n",
       "    }\n",
       "\n",
       "    .dataframe thead th {\n",
       "        text-align: right;\n",
       "    }\n",
       "</style>\n",
       "<table border=\"1\" class=\"dataframe\">\n",
       "  <thead>\n",
       "    <tr style=\"text-align: right;\">\n",
       "      <th></th>\n",
       "      <th>Accuracy</th>\n",
       "      <th>Recall</th>\n",
       "      <th>Precision</th>\n",
       "      <th>F1</th>\n",
       "    </tr>\n",
       "  </thead>\n",
       "  <tbody>\n",
       "    <tr>\n",
       "      <th>0</th>\n",
       "      <td>0.727891</td>\n",
       "      <td>0.898727</td>\n",
       "      <td>0.745895</td>\n",
       "      <td>0.81521</td>\n",
       "    </tr>\n",
       "  </tbody>\n",
       "</table>\n",
       "</div>"
      ],
      "text/plain": [
       "   Accuracy    Recall  Precision       F1\n",
       "0  0.727891  0.898727   0.745895  0.81521"
      ]
     },
     "execution_count": 66,
     "metadata": {},
     "output_type": "execute_result"
    }
   ],
   "source": [
    "## Let's check performance for test data on tuned estimator\n",
    "bagging_estimator_tuned_model_test_perf = model_performance_classification_sklearn(bagging_estimator_tuned,X_test,y_test)\n",
    "bagging_estimator_tuned_model_test_perf"
   ]
  },
  {
   "cell_type": "markdown",
   "id": "1ce3383c",
   "metadata": {},
   "source": [
    "* After tuning the hyperparameters the bagging classifier is still overfitting with the training dataset.\n",
    "* There's a big difference in the training and the test recall."
   ]
  },
  {
   "cell_type": "markdown",
   "id": "colonial-society",
   "metadata": {
    "id": "colonial-society"
   },
   "source": [
    "### Random Forest"
   ]
  },
  {
   "cell_type": "code",
   "execution_count": 67,
   "id": "outer-array",
   "metadata": {
    "id": "outer-array"
   },
   "outputs": [
    {
     "data": {
      "text/plain": [
       "RandomForestClassifier(class_weight='balanced', random_state=1)"
      ]
     },
     "execution_count": 67,
     "metadata": {},
     "output_type": "execute_result"
    }
   ],
   "source": [
    "# Fitting the model\n",
    "## Let's define random forest with random state = 1 and class_weight = balanced\n",
    "rf_estimator = RandomForestClassifier(class_weight=\"balanced\", random_state=1) \n",
    "## Let's fit random forest on the train data\n",
    "rf_estimator.fit(X_train,y_train)"
   ]
  },
  {
   "cell_type": "markdown",
   "id": "possible-vinyl",
   "metadata": {
    "id": "possible-vinyl"
   },
   "source": [
    "#### Checking model performance on training set"
   ]
  },
  {
   "cell_type": "code",
   "execution_count": 68,
   "id": "nervous-ordering",
   "metadata": {
    "id": "nervous-ordering"
   },
   "outputs": [
    {
     "data": {
      "image/png": "[encoded data removed]",
      "text/plain": [
       "<Figure size 432x288 with 2 Axes>"
      ]
     },
     "metadata": {
      "needs_background": "light"
     },
     "output_type": "display_data"
    }
   ],
   "source": [
    "## Let's create confusion matrix for train data\n",
    "confusion_matrix_sklearn(rf_estimator,X_train,y_train)"
   ]
  },
  {
   "cell_type": "code",
   "execution_count": 69,
   "id": "functioning-nigeria",
   "metadata": {
    "id": "functioning-nigeria"
   },
   "outputs": [
    {
     "data": {
      "text/html": [
       "<div>\n",
       "<style scoped>\n",
       "    .dataframe tbody tr th:only-of-type {\n",
       "        vertical-align: middle;\n",
       "    }\n",
       "\n",
       "    .dataframe tbody tr th {\n",
       "        vertical-align: top;\n",
       "    }\n",
       "\n",
       "    .dataframe thead th {\n",
       "        text-align: right;\n",
       "    }\n",
       "</style>\n",
       "<table border=\"1\" class=\"dataframe\">\n",
       "  <thead>\n",
       "    <tr style=\"text-align: right;\">\n",
       "      <th></th>\n",
       "      <th>Accuracy</th>\n",
       "      <th>Recall</th>\n",
       "      <th>Precision</th>\n",
       "      <th>F1</th>\n",
       "    </tr>\n",
       "  </thead>\n",
       "  <tbody>\n",
       "    <tr>\n",
       "      <th>0</th>\n",
       "      <td>0.999944</td>\n",
       "      <td>0.999916</td>\n",
       "      <td>1.0</td>\n",
       "      <td>0.999958</td>\n",
       "    </tr>\n",
       "  </tbody>\n",
       "</table>\n",
       "</div>"
      ],
      "text/plain": [
       "   Accuracy    Recall  Precision        F1\n",
       "0  0.999944  0.999916        1.0  0.999958"
      ]
     },
     "execution_count": 69,
     "metadata": {},
     "output_type": "execute_result"
    }
   ],
   "source": [
    "# Calculating different metrics\n",
    "## Let's check performance on train data\n",
    "rf_estimator_model_train_perf = model_performance_classification_sklearn(rf_estimator,X_train,y_train) \n",
    "rf_estimator_model_train_perf"
   ]
  },
  {
   "cell_type": "markdown",
   "id": "theoretical-poverty",
   "metadata": {
    "id": "theoretical-poverty"
   },
   "source": [
    "#### Checking model performance on test set"
   ]
  },
  {
   "cell_type": "code",
   "execution_count": 70,
   "id": "meaning-crash",
   "metadata": {
    "id": "meaning-crash"
   },
   "outputs": [
    {
     "data": {
      "image/png": "[encoded data removed]",
      "text/plain": [
       "<Figure size 432x288 with 2 Axes>"
      ]
     },
     "metadata": {
      "needs_background": "light"
     },
     "output_type": "display_data"
    }
   ],
   "source": [
    "## Let's create confusion matrix for test data\n",
    "confusion_matrix_sklearn(rf_estimator,X_test,y_test) "
   ]
  },
  {
   "cell_type": "code",
   "execution_count": 71,
   "id": "pending-light",
   "metadata": {
    "id": "pending-light"
   },
   "outputs": [
    {
     "data": {
      "text/html": [
       "<div>\n",
       "<style scoped>\n",
       "    .dataframe tbody tr th:only-of-type {\n",
       "        vertical-align: middle;\n",
       "    }\n",
       "\n",
       "    .dataframe tbody tr th {\n",
       "        vertical-align: top;\n",
       "    }\n",
       "\n",
       "    .dataframe thead th {\n",
       "        text-align: right;\n",
       "    }\n",
       "</style>\n",
       "<table border=\"1\" class=\"dataframe\">\n",
       "  <thead>\n",
       "    <tr style=\"text-align: right;\">\n",
       "      <th></th>\n",
       "      <th>Accuracy</th>\n",
       "      <th>Recall</th>\n",
       "      <th>Precision</th>\n",
       "      <th>F1</th>\n",
       "    </tr>\n",
       "  </thead>\n",
       "  <tbody>\n",
       "    <tr>\n",
       "      <th>0</th>\n",
       "      <td>0.721088</td>\n",
       "      <td>0.840744</td>\n",
       "      <td>0.764926</td>\n",
       "      <td>0.801045</td>\n",
       "    </tr>\n",
       "  </tbody>\n",
       "</table>\n",
       "</div>"
      ],
      "text/plain": [
       "   Accuracy    Recall  Precision        F1\n",
       "0  0.721088  0.840744   0.764926  0.801045"
      ]
     },
     "execution_count": 71,
     "metadata": {},
     "output_type": "execute_result"
    }
   ],
   "source": [
    "## Let's check performance for test data\n",
    "rf_estimator_model_test_perf = model_performance_classification_sklearn(rf_estimator,X_test,y_test) \n",
    "rf_estimator_model_test_perf"
   ]
  },
  {
   "cell_type": "markdown",
   "id": "19dd141c",
   "metadata": {},
   "source": [
    "- With default parameters, random forest is overfitting the training data.\n",
    "- We'll try to reduce overfitting and improve recall by hyperparameter tuning."
   ]
  },
  {
   "cell_type": "markdown",
   "id": "beneficial-bosnia",
   "metadata": {
    "id": "beneficial-bosnia"
   },
   "source": [
    "### Hyperparameter Tuning - Random Forest"
   ]
  },
  {
   "cell_type": "code",
   "execution_count": 72,
   "id": "interstate-jonathan",
   "metadata": {
    "id": "interstate-jonathan"
   },
   "outputs": [
    {
     "data": {
      "text/plain": [
       "RandomForestClassifier(max_depth=10, max_features='sqrt', min_samples_split=3,\n",
       "                       n_estimators=40, oob_score=True, random_state=1)"
      ]
     },
     "execution_count": 72,
     "metadata": {},
     "output_type": "execute_result"
    }
   ],
   "source": [
    "# Choose the type of classifier.\n",
    "rf_tuned = RandomForestClassifier(random_state=1, oob_score=True, bootstrap=True)\n",
    "\n",
    "parameters = {\n",
    "    \"max_depth\": list(np.arange(5, 15, 5)),\n",
    "    \"max_features\": [\"sqrt\", \"log2\"],\n",
    "    \"min_samples_split\": [3, 5, 7],\n",
    "    \"n_estimators\": [0, 40, 10],\n",
    "}\n",
    "\n",
    "# Type of scoring used to compare parameter combinations\n",
    "acc_scorer = metrics.make_scorer(metrics.f1_score)\n",
    "\n",
    "# Run the grid search\n",
    "## Complete the code to run grid search with cv = 5 and n_jobs = -1\n",
    "grid_obj = GridSearchCV(rf_tuned, parameters, scoring=scorer, cv=5,n_jobs=-1)\n",
    "\n",
    "## Complete the code to fit the grid_obj on the train data\n",
    "grid_obj = grid_obj.fit(X_train, y_train)\n",
    "\n",
    "# Set the clf to the best combination of parameters\n",
    "rf_tuned = grid_obj.best_estimator_\n",
    "\n",
    "# Fit the best algorithm to the data.\n",
    "rf_tuned.fit(X_train, y_train)"
   ]
  },
  {
   "cell_type": "markdown",
   "id": "joint-appendix",
   "metadata": {
    "id": "joint-appendix"
   },
   "source": [
    "#### Checking model performance on training set"
   ]
  },
  {
   "cell_type": "code",
   "execution_count": 73,
   "id": "broadband-issue",
   "metadata": {
    "id": "broadband-issue"
   },
   "outputs": [
    {
     "data": {
      "image/png": "[encoded data removed]",
      "text/plain": [
       "<Figure size 432x288 with 2 Axes>"
      ]
     },
     "metadata": {
      "needs_background": "light"
     },
     "output_type": "display_data"
    }
   ],
   "source": [
    "## Let's create confusion matrix for train data on tuned estimator\n",
    "confusion_matrix_sklearn(rf_tuned,X_train,y_train)"
   ]
  },
  {
   "cell_type": "code",
   "execution_count": 74,
   "id": "minus-publication",
   "metadata": {
    "id": "minus-publication"
   },
   "outputs": [
    {
     "data": {
      "text/html": [
       "<div>\n",
       "<style scoped>\n",
       "    .dataframe tbody tr th:only-of-type {\n",
       "        vertical-align: middle;\n",
       "    }\n",
       "\n",
       "    .dataframe tbody tr th {\n",
       "        vertical-align: top;\n",
       "    }\n",
       "\n",
       "    .dataframe thead th {\n",
       "        text-align: right;\n",
       "    }\n",
       "</style>\n",
       "<table border=\"1\" class=\"dataframe\">\n",
       "  <thead>\n",
       "    <tr style=\"text-align: right;\">\n",
       "      <th></th>\n",
       "      <th>Accuracy</th>\n",
       "      <th>Recall</th>\n",
       "      <th>Precision</th>\n",
       "      <th>F1</th>\n",
       "    </tr>\n",
       "  </thead>\n",
       "  <tbody>\n",
       "    <tr>\n",
       "      <th>0</th>\n",
       "      <td>0.776575</td>\n",
       "      <td>0.909511</td>\n",
       "      <td>0.788459</td>\n",
       "      <td>0.84467</td>\n",
       "    </tr>\n",
       "  </tbody>\n",
       "</table>\n",
       "</div>"
      ],
      "text/plain": [
       "   Accuracy    Recall  Precision       F1\n",
       "0  0.776575  0.909511   0.788459  0.84467"
      ]
     },
     "execution_count": 74,
     "metadata": {},
     "output_type": "execute_result"
    }
   ],
   "source": [
    "## Let's check performance for train data on tuned estimator\n",
    "rf_tuned_model_train_perf = model_performance_classification_sklearn(rf_tuned,X_train,y_train) \n",
    "rf_tuned_model_train_perf"
   ]
  },
  {
   "cell_type": "markdown",
   "id": "joined-newman",
   "metadata": {
    "id": "joined-newman"
   },
   "source": [
    "#### Checking model performance on test set"
   ]
  },
  {
   "cell_type": "code",
   "execution_count": 75,
   "id": "higher-memphis",
   "metadata": {
    "id": "higher-memphis"
   },
   "outputs": [
    {
     "data": {
      "image/png": "[encoded data removed]",
      "text/plain": [
       "<Figure size 432x288 with 2 Axes>"
      ]
     },
     "metadata": {
      "needs_background": "light"
     },
     "output_type": "display_data"
    }
   ],
   "source": [
    "## Let's create confusion matrix for test data on tuned estimator\n",
    "confusion_matrix_sklearn(rf_tuned,X_test,y_test)"
   ]
  },
  {
   "cell_type": "code",
   "execution_count": 76,
   "id": "processed-capital",
   "metadata": {
    "id": "processed-capital"
   },
   "outputs": [
    {
     "data": {
      "text/html": [
       "<div>\n",
       "<style scoped>\n",
       "    .dataframe tbody tr th:only-of-type {\n",
       "        vertical-align: middle;\n",
       "    }\n",
       "\n",
       "    .dataframe tbody tr th {\n",
       "        vertical-align: top;\n",
       "    }\n",
       "\n",
       "    .dataframe thead th {\n",
       "        text-align: right;\n",
       "    }\n",
       "</style>\n",
       "<table border=\"1\" class=\"dataframe\">\n",
       "  <thead>\n",
       "    <tr style=\"text-align: right;\">\n",
       "      <th></th>\n",
       "      <th>Accuracy</th>\n",
       "      <th>Recall</th>\n",
       "      <th>Precision</th>\n",
       "      <th>F1</th>\n",
       "    </tr>\n",
       "  </thead>\n",
       "  <tbody>\n",
       "    <tr>\n",
       "      <th>0</th>\n",
       "      <td>0.742805</td>\n",
       "      <td>0.883643</td>\n",
       "      <td>0.766786</td>\n",
       "      <td>0.821078</td>\n",
       "    </tr>\n",
       "  </tbody>\n",
       "</table>\n",
       "</div>"
      ],
      "text/plain": [
       "   Accuracy    Recall  Precision        F1\n",
       "0  0.742805  0.883643   0.766786  0.821078"
      ]
     },
     "execution_count": 76,
     "metadata": {},
     "output_type": "execute_result"
    }
   ],
   "source": [
    "## Let's check performance for test data on tuned estimator\n",
    "rf_tuned_model_test_perf = model_performance_classification_sklearn(rf_tuned,X_test,y_test) \n",
    "rf_tuned_model_test_perf"
   ]
  },
  {
   "cell_type": "markdown",
   "id": "2571e4f3",
   "metadata": {},
   "source": [
    "* After hyperparameter tuning the model performance has generalized.\n",
    "* We have an F1 score of 0.84 and 0.82 on the training and test data, respectively.\n",
    "* The model has a high recall and a good precision."
   ]
  },
  {
   "cell_type": "markdown",
   "id": "divine-legend",
   "metadata": {
    "id": "divine-legend"
   },
   "source": [
    "### AdaBoost Classifier"
   ]
  },
  {
   "cell_type": "code",
   "execution_count": 77,
   "id": "written-chicken",
   "metadata": {
    "id": "written-chicken"
   },
   "outputs": [
    {
     "data": {
      "text/plain": [
       "AdaBoostClassifier(random_state=1)"
      ]
     },
     "execution_count": 77,
     "metadata": {},
     "output_type": "execute_result"
    }
   ],
   "source": [
    "## Let's define AdaBoost Classifier with random state = 1\n",
    "ab_classifier = AdaBoostClassifier(random_state=1) \n",
    "## Let's fit AdaBoost Classifier on the train data\n",
    "ab_classifier.fit(X_train,y_train)"
   ]
  },
  {
   "cell_type": "markdown",
   "id": "grand-popularity",
   "metadata": {
    "id": "grand-popularity"
   },
   "source": [
    "#### Checking model performance on training set"
   ]
  },
  {
   "cell_type": "code",
   "execution_count": 78,
   "id": "fatty-primary",
   "metadata": {
    "id": "fatty-primary"
   },
   "outputs": [
    {
     "data": {
      "image/png": "[encoded data removed]",
      "text/plain": [
       "<Figure size 432x288 with 2 Axes>"
      ]
     },
     "metadata": {
      "needs_background": "light"
     },
     "output_type": "display_data"
    }
   ],
   "source": [
    "## Let's create confusion matrix for train data\n",
    "confusion_matrix_sklearn(ab_classifier,X_train,y_train)"
   ]
  },
  {
   "cell_type": "code",
   "execution_count": 79,
   "id": "forty-blame",
   "metadata": {
    "id": "forty-blame"
   },
   "outputs": [
    {
     "data": {
      "text/html": [
       "<div>\n",
       "<style scoped>\n",
       "    .dataframe tbody tr th:only-of-type {\n",
       "        vertical-align: middle;\n",
       "    }\n",
       "\n",
       "    .dataframe tbody tr th {\n",
       "        vertical-align: top;\n",
       "    }\n",
       "\n",
       "    .dataframe thead th {\n",
       "        text-align: right;\n",
       "    }\n",
       "</style>\n",
       "<table border=\"1\" class=\"dataframe\">\n",
       "  <thead>\n",
       "    <tr style=\"text-align: right;\">\n",
       "      <th></th>\n",
       "      <th>Accuracy</th>\n",
       "      <th>Recall</th>\n",
       "      <th>Precision</th>\n",
       "      <th>F1</th>\n",
       "    </tr>\n",
       "  </thead>\n",
       "  <tbody>\n",
       "    <tr>\n",
       "      <th>0</th>\n",
       "      <td>0.738226</td>\n",
       "      <td>0.887182</td>\n",
       "      <td>0.760688</td>\n",
       "      <td>0.81908</td>\n",
       "    </tr>\n",
       "  </tbody>\n",
       "</table>\n",
       "</div>"
      ],
      "text/plain": [
       "   Accuracy    Recall  Precision       F1\n",
       "0  0.738226  0.887182   0.760688  0.81908"
      ]
     },
     "execution_count": 79,
     "metadata": {},
     "output_type": "execute_result"
    }
   ],
   "source": [
    "## Let's check performance on train data\n",
    "ab_classifier_model_train_perf = model_performance_classification_sklearn(ab_classifier,X_train,y_train)\n",
    "ab_classifier_model_train_perf"
   ]
  },
  {
   "cell_type": "markdown",
   "id": "french-breed",
   "metadata": {
    "id": "french-breed"
   },
   "source": [
    "#### Checking model performance on test set"
   ]
  },
  {
   "cell_type": "code",
   "execution_count": 80,
   "id": "enormous-musical",
   "metadata": {
    "id": "enormous-musical"
   },
   "outputs": [
    {
     "data": {
      "image/png": "[encoded data removed]",
      "text/plain": [
       "<Figure size 432x288 with 2 Axes>"
      ]
     },
     "metadata": {
      "needs_background": "light"
     },
     "output_type": "display_data"
    }
   ],
   "source": [
    "## Let's create confusion matrix for test data\n",
    "confusion_matrix_sklearn(ab_classifier,X_test,y_test)"
   ]
  },
  {
   "cell_type": "code",
   "execution_count": 81,
   "id": "detailed-promise",
   "metadata": {
    "id": "detailed-promise"
   },
   "outputs": [
    {
     "data": {
      "text/html": [
       "<div>\n",
       "<style scoped>\n",
       "    .dataframe tbody tr th:only-of-type {\n",
       "        vertical-align: middle;\n",
       "    }\n",
       "\n",
       "    .dataframe tbody tr th {\n",
       "        vertical-align: top;\n",
       "    }\n",
       "\n",
       "    .dataframe thead th {\n",
       "        text-align: right;\n",
       "    }\n",
       "</style>\n",
       "<table border=\"1\" class=\"dataframe\">\n",
       "  <thead>\n",
       "    <tr style=\"text-align: right;\">\n",
       "      <th></th>\n",
       "      <th>Accuracy</th>\n",
       "      <th>Recall</th>\n",
       "      <th>Precision</th>\n",
       "      <th>F1</th>\n",
       "    </tr>\n",
       "  </thead>\n",
       "  <tbody>\n",
       "    <tr>\n",
       "      <th>0</th>\n",
       "      <td>0.734301</td>\n",
       "      <td>0.885015</td>\n",
       "      <td>0.757799</td>\n",
       "      <td>0.816481</td>\n",
       "    </tr>\n",
       "  </tbody>\n",
       "</table>\n",
       "</div>"
      ],
      "text/plain": [
       "   Accuracy    Recall  Precision        F1\n",
       "0  0.734301  0.885015   0.757799  0.816481"
      ]
     },
     "execution_count": 81,
     "metadata": {},
     "output_type": "execute_result"
    }
   ],
   "source": [
    "## Let's check performance for test data\n",
    "ab_classifier_model_test_perf = model_performance_classification_sklearn(ab_classifier,X_test,y_test) \n",
    "ab_classifier_model_test_perf\n",
    " "
   ]
  },
  {
   "cell_type": "markdown",
   "id": "f07990b7",
   "metadata": {},
   "source": [
    "* The model is giving a generalized performance.\n",
    "* We have received a good F1 score of approximately 0.82 on both the training and test set."
   ]
  },
  {
   "cell_type": "markdown",
   "id": "increased-sharing",
   "metadata": {
    "id": "increased-sharing"
   },
   "source": [
    "### Hyperparameter Tuning - AdaBoost Classifier"
   ]
  },
  {
   "cell_type": "code",
   "execution_count": 82,
   "id": "overall-grounds",
   "metadata": {
    "id": "overall-grounds"
   },
   "outputs": [
    {
     "data": {
      "text/plain": [
       "AdaBoostClassifier(base_estimator=DecisionTreeClassifier(class_weight='balanced',\n",
       "                                                         max_depth=1,\n",
       "                                                         random_state=1),\n",
       "                   learning_rate=0.1, n_estimators=10, random_state=1)"
      ]
     },
     "execution_count": 82,
     "metadata": {},
     "output_type": "execute_result"
    }
   ],
   "source": [
    "# Choose the type of classifier.\n",
    "abc_tuned = AdaBoostClassifier(random_state=1)\n",
    "\n",
    "# Grid of parameters to choose from\n",
    "parameters = {\n",
    "    # Let's try different max_depth for base_estimator\n",
    "    \"base_estimator\": [\n",
    "        DecisionTreeClassifier(max_depth=1, class_weight=\"balanced\", random_state=1),\n",
    "        DecisionTreeClassifier(max_depth=2, class_weight=\"balanced\", random_state=1),\n",
    "        DecisionTreeClassifier(max_depth=3, class_weight=\"balanced\", random_state=1),\n",
    "    ],\n",
    "    \"n_estimators\": [60, 100, 10],\n",
    "    \"learning_rate\": [0.1, 0.4, 0.1],\n",
    "}\n",
    "\n",
    "# Type of scoring used to compare parameter  combinations\n",
    "acc_scorer = metrics.make_scorer(metrics.f1_score)\n",
    "\n",
    "# Run the grid search\n",
    "## Complete the code to run grid search with cv = 5\n",
    "grid_obj = GridSearchCV(abc_tuned, parameters, scoring=scorer,cv=5) \n",
    "\n",
    "## Complete the code to fit the grid_obj on train data\n",
    "grid_obj = grid_obj.fit(X_train, y_train)\n",
    "\n",
    "# Set the clf to the best combination of parameters\n",
    "abc_tuned = grid_obj.best_estimator_\n",
    "\n",
    "# Fit the best algorithm to the data.\n",
    "abc_tuned.fit(X_train, y_train)"
   ]
  },
  {
   "cell_type": "markdown",
   "id": "adolescent-carroll",
   "metadata": {
    "id": "adolescent-carroll"
   },
   "source": [
    "#### Checking model performance on training set"
   ]
  },
  {
   "cell_type": "code",
   "execution_count": 83,
   "id": "excessive-drilling",
   "metadata": {
    "id": "excessive-drilling"
   },
   "outputs": [
    {
     "data": {
      "image/png": "[encoded data removed]",
      "text/plain": [
       "<Figure size 432x288 with 2 Axes>"
      ]
     },
     "metadata": {
      "needs_background": "light"
     },
     "output_type": "display_data"
    }
   ],
   "source": [
    "## Let's create confusion matrix for train data on tuned estimator\n",
    "confusion_matrix_sklearn(abc_tuned,X_train,y_train)"
   ]
  },
  {
   "cell_type": "code",
   "execution_count": 84,
   "id": "broadband-dealer",
   "metadata": {
    "id": "broadband-dealer"
   },
   "outputs": [
    {
     "data": {
      "text/html": [
       "<div>\n",
       "<style scoped>\n",
       "    .dataframe tbody tr th:only-of-type {\n",
       "        vertical-align: middle;\n",
       "    }\n",
       "\n",
       "    .dataframe tbody tr th {\n",
       "        vertical-align: top;\n",
       "    }\n",
       "\n",
       "    .dataframe thead th {\n",
       "        text-align: right;\n",
       "    }\n",
       "</style>\n",
       "<table border=\"1\" class=\"dataframe\">\n",
       "  <thead>\n",
       "    <tr style=\"text-align: right;\">\n",
       "      <th></th>\n",
       "      <th>Accuracy</th>\n",
       "      <th>Recall</th>\n",
       "      <th>Precision</th>\n",
       "      <th>F1</th>\n",
       "    </tr>\n",
       "  </thead>\n",
       "  <tbody>\n",
       "    <tr>\n",
       "      <th>0</th>\n",
       "      <td>0.729199</td>\n",
       "      <td>0.889616</td>\n",
       "      <td>0.750939</td>\n",
       "      <td>0.814416</td>\n",
       "    </tr>\n",
       "  </tbody>\n",
       "</table>\n",
       "</div>"
      ],
      "text/plain": [
       "   Accuracy    Recall  Precision        F1\n",
       "0  0.729199  0.889616   0.750939  0.814416"
      ]
     },
     "execution_count": 84,
     "metadata": {},
     "output_type": "execute_result"
    }
   ],
   "source": [
    "## Let's check performance for train data on tuned estimator\n",
    "abc_tuned_model_train_perf = model_performance_classification_sklearn(abc_tuned,X_train,y_train) \n",
    "abc_tuned_model_train_perf"
   ]
  },
  {
   "cell_type": "markdown",
   "id": "fitting-cameroon",
   "metadata": {
    "id": "fitting-cameroon"
   },
   "source": [
    "#### Checking model performance on test set"
   ]
  },
  {
   "cell_type": "code",
   "execution_count": 85,
   "id": "central-forest",
   "metadata": {
    "id": "central-forest"
   },
   "outputs": [
    {
     "data": {
      "image/png": "[encoded data removed]",
      "text/plain": [
       "<Figure size 432x288 with 2 Axes>"
      ]
     },
     "metadata": {
      "needs_background": "light"
     },
     "output_type": "display_data"
    }
   ],
   "source": [
    "## Let's create confusion matrix for test data on tuned estimator\n",
    "confusion_matrix_sklearn(abc_tuned,X_test,y_test)"
   ]
  },
  {
   "cell_type": "code",
   "execution_count": 86,
   "id": "acting-edmonton",
   "metadata": {
    "id": "acting-edmonton"
   },
   "outputs": [
    {
     "data": {
      "text/html": [
       "<div>\n",
       "<style scoped>\n",
       "    .dataframe tbody tr th:only-of-type {\n",
       "        vertical-align: middle;\n",
       "    }\n",
       "\n",
       "    .dataframe tbody tr th {\n",
       "        vertical-align: top;\n",
       "    }\n",
       "\n",
       "    .dataframe thead th {\n",
       "        text-align: right;\n",
       "    }\n",
       "</style>\n",
       "<table border=\"1\" class=\"dataframe\">\n",
       "  <thead>\n",
       "    <tr style=\"text-align: right;\">\n",
       "      <th></th>\n",
       "      <th>Accuracy</th>\n",
       "      <th>Recall</th>\n",
       "      <th>Precision</th>\n",
       "      <th>F1</th>\n",
       "    </tr>\n",
       "  </thead>\n",
       "  <tbody>\n",
       "    <tr>\n",
       "      <th>0</th>\n",
       "      <td>0.723705</td>\n",
       "      <td>0.890304</td>\n",
       "      <td>0.745449</td>\n",
       "      <td>0.811462</td>\n",
       "    </tr>\n",
       "  </tbody>\n",
       "</table>\n",
       "</div>"
      ],
      "text/plain": [
       "   Accuracy    Recall  Precision        F1\n",
       "0  0.723705  0.890304   0.745449  0.811462"
      ]
     },
     "execution_count": 86,
     "metadata": {},
     "output_type": "execute_result"
    }
   ],
   "source": [
    "## Let's check performance for test data on tuned estimator\n",
    "abc_tuned_model_test_perf = model_performance_classification_sklearn(abc_tuned,X_test,y_test) \n",
    "abc_tuned_model_test_perf"
   ]
  },
  {
   "cell_type": "markdown",
   "id": "d940819d",
   "metadata": {},
   "source": [
    "* After tuning the F1 score remained relatively the same.\n",
    "* The recall of the model has reduced but the precision has improved."
   ]
  },
  {
   "cell_type": "markdown",
   "id": "married-terminal",
   "metadata": {
    "id": "married-terminal"
   },
   "source": [
    "### Gradient Boosting Classifier"
   ]
  },
  {
   "cell_type": "code",
   "execution_count": 87,
   "id": "indian-pierre",
   "metadata": {
    "id": "indian-pierre"
   },
   "outputs": [
    {
     "data": {
      "text/plain": [
       "GradientBoostingClassifier(random_state=1)"
      ]
     },
     "execution_count": 87,
     "metadata": {},
     "output_type": "execute_result"
    }
   ],
   "source": [
    "## Let's define Gradient Boosting Classifier with random state = 1\n",
    "gb_classifier = GradientBoostingClassifier(random_state=1)\n",
    "\n",
    "## Let's fit Gradient Boosting Classifier on the train data\n",
    "gb_classifier.fit(X_train,y_train)"
   ]
  },
  {
   "cell_type": "markdown",
   "id": "fiscal-language",
   "metadata": {
    "id": "fiscal-language"
   },
   "source": [
    "#### Checking model performance on training set"
   ]
  },
  {
   "cell_type": "code",
   "execution_count": 88,
   "id": "soviet-orange",
   "metadata": {
    "id": "soviet-orange"
   },
   "outputs": [
    {
     "data": {
      "image/png": "[encoded data removed]",
      "text/plain": [
       "<Figure size 432x288 with 2 Axes>"
      ]
     },
     "metadata": {
      "needs_background": "light"
     },
     "output_type": "display_data"
    }
   ],
   "source": [
    "## Let's create confusion matrix for train data\n",
    "confusion_matrix_sklearn(gb_classifier,X_train,y_train)"
   ]
  },
  {
   "cell_type": "code",
   "execution_count": 89,
   "id": "respected-belief",
   "metadata": {
    "id": "respected-belief"
   },
   "outputs": [
    {
     "data": {
      "text/html": [
       "<div>\n",
       "<style scoped>\n",
       "    .dataframe tbody tr th:only-of-type {\n",
       "        vertical-align: middle;\n",
       "    }\n",
       "\n",
       "    .dataframe tbody tr th {\n",
       "        vertical-align: top;\n",
       "    }\n",
       "\n",
       "    .dataframe thead th {\n",
       "        text-align: right;\n",
       "    }\n",
       "</style>\n",
       "<table border=\"1\" class=\"dataframe\">\n",
       "  <thead>\n",
       "    <tr style=\"text-align: right;\">\n",
       "      <th></th>\n",
       "      <th>Accuracy</th>\n",
       "      <th>Recall</th>\n",
       "      <th>Precision</th>\n",
       "      <th>F1</th>\n",
       "    </tr>\n",
       "  </thead>\n",
       "  <tbody>\n",
       "    <tr>\n",
       "      <th>0</th>\n",
       "      <td>0.758802</td>\n",
       "      <td>0.88374</td>\n",
       "      <td>0.783042</td>\n",
       "      <td>0.830349</td>\n",
       "    </tr>\n",
       "  </tbody>\n",
       "</table>\n",
       "</div>"
      ],
      "text/plain": [
       "   Accuracy   Recall  Precision        F1\n",
       "0  0.758802  0.88374   0.783042  0.830349"
      ]
     },
     "execution_count": 89,
     "metadata": {},
     "output_type": "execute_result"
    }
   ],
   "source": [
    "## Let's check performance on train data\n",
    "gb_classifier_model_train_perf = model_performance_classification_sklearn(gb_classifier,X_train,y_train) \n",
    "gb_classifier_model_train_perf"
   ]
  },
  {
   "cell_type": "markdown",
   "id": "tribal-rainbow",
   "metadata": {
    "id": "tribal-rainbow"
   },
   "source": [
    "#### Checking model performance on test set"
   ]
  },
  {
   "cell_type": "code",
   "execution_count": 90,
   "id": "uniform-procedure",
   "metadata": {
    "id": "uniform-procedure"
   },
   "outputs": [
    {
     "data": {
      "image/png": "[encoded data removed]",
      "text/plain": [
       "<Figure size 432x288 with 2 Axes>"
      ]
     },
     "metadata": {
      "needs_background": "light"
     },
     "output_type": "display_data"
    }
   ],
   "source": [
    "## Let's create confusion matrix for test data\n",
    "confusion_matrix_sklearn(gb_classifier,X_test,y_test)"
   ]
  },
  {
   "cell_type": "code",
   "execution_count": 91,
   "id": "blind-apparel",
   "metadata": {
    "id": "blind-apparel"
   },
   "outputs": [
    {
     "data": {
      "text/html": [
       "<div>\n",
       "<style scoped>\n",
       "    .dataframe tbody tr th:only-of-type {\n",
       "        vertical-align: middle;\n",
       "    }\n",
       "\n",
       "    .dataframe tbody tr th {\n",
       "        vertical-align: top;\n",
       "    }\n",
       "\n",
       "    .dataframe thead th {\n",
       "        text-align: right;\n",
       "    }\n",
       "</style>\n",
       "<table border=\"1\" class=\"dataframe\">\n",
       "  <thead>\n",
       "    <tr style=\"text-align: right;\">\n",
       "      <th></th>\n",
       "      <th>Accuracy</th>\n",
       "      <th>Recall</th>\n",
       "      <th>Precision</th>\n",
       "      <th>F1</th>\n",
       "    </tr>\n",
       "  </thead>\n",
       "  <tbody>\n",
       "    <tr>\n",
       "      <th>0</th>\n",
       "      <td>0.744767</td>\n",
       "      <td>0.876004</td>\n",
       "      <td>0.772366</td>\n",
       "      <td>0.820927</td>\n",
       "    </tr>\n",
       "  </tbody>\n",
       "</table>\n",
       "</div>"
      ],
      "text/plain": [
       "   Accuracy    Recall  Precision        F1\n",
       "0  0.744767  0.876004   0.772366  0.820927"
      ]
     },
     "execution_count": 91,
     "metadata": {},
     "output_type": "execute_result"
    }
   ],
   "source": [
    "## Let's check performance for test data\n",
    "gb_classifier_model_test_perf = model_performance_classification_sklearn(gb_classifier,X_test,y_test) \n",
    "gb_classifier_model_test_perf\n"
   ]
  },
  {
   "cell_type": "markdown",
   "id": "26c0bb6e",
   "metadata": {},
   "source": [
    "* The model is giving a good and generalized performance.\n",
    "* We are getting the F1 score of 0.83 and 0.82 on the training and test set, respectively.\n",
    "* Let's see if the performance can be improved further by hyperparameter tuning."
   ]
  },
  {
   "cell_type": "markdown",
   "id": "fuzzy-enemy",
   "metadata": {
    "id": "fuzzy-enemy"
   },
   "source": [
    "### Hyperparameter Tuning - Gradient Boosting Classifier"
   ]
  },
  {
   "cell_type": "code",
   "execution_count": 92,
   "id": "based-bishop",
   "metadata": {
    "id": "based-bishop"
   },
   "outputs": [
    {
     "data": {
      "text/plain": [
       "GradientBoostingClassifier(init=AdaBoostClassifier(random_state=1),\n",
       "                           max_features=0.9, random_state=1, subsample=0.9)"
      ]
     },
     "execution_count": 92,
     "metadata": {},
     "output_type": "execute_result"
    }
   ],
   "source": [
    "# Choose the type of classifier.\n",
    "gbc_tuned = GradientBoostingClassifier(\n",
    "    init=AdaBoostClassifier(random_state=1), random_state=1\n",
    ")\n",
    "\n",
    "# Grid of parameters to choose from\n",
    "parameters = {\n",
    "    \"n_estimators\": [100, 150],\n",
    "    \"subsample\": [0.8, 0.9],\n",
    "    \"max_features\": [0.8, 0.9, 1],\n",
    "    \"learning_rate\": [0.1, 0.4],\n",
    "}\n",
    "\n",
    "# Type of scoring used to compare parameter combinations\n",
    "acc_scorer = metrics.make_scorer(metrics.f1_score)\n",
    "\n",
    "# Run the grid search\n",
    "## Complete the code to run grid search with cv = 5\n",
    "grid_obj = GridSearchCV(gbc_tuned, parameters, scoring=scorer,cv=5) \n",
    "\n",
    "## Let's fit the grid_obj on train data\n",
    "grid_obj = grid_obj.fit(X_train, y_train)\n",
    "\n",
    "# Set the clf to the best combination of parameters\n",
    "gbc_tuned = grid_obj.best_estimator_\n",
    "\n",
    "# Fit the best algorithm to the data.\n",
    "gbc_tuned.fit(X_train, y_train)"
   ]
  },
  {
   "cell_type": "markdown",
   "id": "standard-islam",
   "metadata": {
    "id": "standard-islam"
   },
   "source": [
    "#### Checking model performance on training set"
   ]
  },
  {
   "cell_type": "code",
   "execution_count": 93,
   "id": "verbal-japanese",
   "metadata": {
    "id": "verbal-japanese"
   },
   "outputs": [
    {
     "data": {
      "image/png": "[encoded data removed]",
      "text/plain": [
       "<Figure size 432x288 with 2 Axes>"
      ]
     },
     "metadata": {
      "needs_background": "light"
     },
     "output_type": "display_data"
    }
   ],
   "source": [
    "## Let's create confusion matrix for train data on tuned estimator\n",
    "confusion_matrix_sklearn(gbc_tuned,X_train,y_train)"
   ]
  },
  {
   "cell_type": "code",
   "execution_count": 94,
   "id": "passive-accent",
   "metadata": {
    "id": "passive-accent"
   },
   "outputs": [
    {
     "data": {
      "text/html": [
       "<div>\n",
       "<style scoped>\n",
       "    .dataframe tbody tr th:only-of-type {\n",
       "        vertical-align: middle;\n",
       "    }\n",
       "\n",
       "    .dataframe tbody tr th {\n",
       "        vertical-align: top;\n",
       "    }\n",
       "\n",
       "    .dataframe thead th {\n",
       "        text-align: right;\n",
       "    }\n",
       "</style>\n",
       "<table border=\"1\" class=\"dataframe\">\n",
       "  <thead>\n",
       "    <tr style=\"text-align: right;\">\n",
       "      <th></th>\n",
       "      <th>Accuracy</th>\n",
       "      <th>Recall</th>\n",
       "      <th>Precision</th>\n",
       "      <th>F1</th>\n",
       "    </tr>\n",
       "  </thead>\n",
       "  <tbody>\n",
       "    <tr>\n",
       "      <th>0</th>\n",
       "      <td>0.759027</td>\n",
       "      <td>0.882649</td>\n",
       "      <td>0.783824</td>\n",
       "      <td>0.830306</td>\n",
       "    </tr>\n",
       "  </tbody>\n",
       "</table>\n",
       "</div>"
      ],
      "text/plain": [
       "   Accuracy    Recall  Precision        F1\n",
       "0  0.759027  0.882649   0.783824  0.830306"
      ]
     },
     "execution_count": 94,
     "metadata": {},
     "output_type": "execute_result"
    }
   ],
   "source": [
    "## Let's check performance for train data on tuned estimator\n",
    "gbc_tuned_model_train_perf = model_performance_classification_sklearn(gbc_tuned,X_train,y_train) \n",
    "gbc_tuned_model_train_perf"
   ]
  },
  {
   "cell_type": "markdown",
   "id": "subsequent-royalty",
   "metadata": {
    "id": "subsequent-royalty"
   },
   "source": [
    "#### Checking model performance on test set"
   ]
  },
  {
   "cell_type": "code",
   "execution_count": 95,
   "id": "other-pharmaceutical",
   "metadata": {
    "id": "other-pharmaceutical"
   },
   "outputs": [
    {
     "data": {
      "image/png": "[encoded data removed]",
      "text/plain": [
       "<Figure size 432x288 with 2 Axes>"
      ]
     },
     "metadata": {
      "needs_background": "light"
     },
     "output_type": "display_data"
    }
   ],
   "source": [
    "## Let's create confusion matrix for test data on tuned estimator\n",
    "confusion_matrix_sklearn(gbc_tuned,X_test,y_test)"
   ]
  },
  {
   "cell_type": "code",
   "execution_count": 96,
   "id": "forward-perspective",
   "metadata": {
    "id": "forward-perspective"
   },
   "outputs": [
    {
     "data": {
      "text/html": [
       "<div>\n",
       "<style scoped>\n",
       "    .dataframe tbody tr th:only-of-type {\n",
       "        vertical-align: middle;\n",
       "    }\n",
       "\n",
       "    .dataframe tbody tr th {\n",
       "        vertical-align: top;\n",
       "    }\n",
       "\n",
       "    .dataframe thead th {\n",
       "        text-align: right;\n",
       "    }\n",
       "</style>\n",
       "<table border=\"1\" class=\"dataframe\">\n",
       "  <thead>\n",
       "    <tr style=\"text-align: right;\">\n",
       "      <th></th>\n",
       "      <th>Accuracy</th>\n",
       "      <th>Recall</th>\n",
       "      <th>Precision</th>\n",
       "      <th>F1</th>\n",
       "    </tr>\n",
       "  </thead>\n",
       "  <tbody>\n",
       "    <tr>\n",
       "      <th>0</th>\n",
       "      <td>0.744505</td>\n",
       "      <td>0.874045</td>\n",
       "      <td>0.773042</td>\n",
       "      <td>0.820447</td>\n",
       "    </tr>\n",
       "  </tbody>\n",
       "</table>\n",
       "</div>"
      ],
      "text/plain": [
       "   Accuracy    Recall  Precision        F1\n",
       "0  0.744505  0.874045   0.773042  0.820447"
      ]
     },
     "execution_count": 96,
     "metadata": {},
     "output_type": "execute_result"
    }
   ],
   "source": [
    "## Let's check performance for test data on tuned estimator\n",
    "gbc_tuned_model_test_perf = model_performance_classification_sklearn(gbc_tuned,X_test,y_test) \n",
    "gbc_tuned_model_test_perf"
   ]
  },
  {
   "cell_type": "markdown",
   "id": "5c814ee8",
   "metadata": {},
   "source": [
    "* After tuning there is not much change in the model performance as compared to the model with default values of hyperparameters."
   ]
  },
  {
   "cell_type": "markdown",
   "id": "disciplinary-manhattan",
   "metadata": {
    "id": "disciplinary-manhattan"
   },
   "source": [
    "### Stacking Classifier"
   ]
  },
  {
   "cell_type": "code",
   "execution_count": 97,
   "id": "massive-cincinnati",
   "metadata": {
    "id": "massive-cincinnati"
   },
   "outputs": [
    {
     "data": {
      "text/plain": [
       "StackingClassifier(estimators=[('AdaBoost', AdaBoostClassifier(random_state=1)),\n",
       "                               ('Gradient Boosting',\n",
       "                                GradientBoostingClassifier(init=AdaBoostClassifier(random_state=1),\n",
       "                                                           max_features=0.9,\n",
       "                                                           random_state=1,\n",
       "                                                           subsample=0.9)),\n",
       "                               ('Random Forest',\n",
       "                                RandomForestClassifier(max_depth=10,\n",
       "                                                       max_features='sqrt',\n",
       "                                                       min_samples_split=3,\n",
       "                                                       n_estimators=40,\n",
       "                                                       oob_score=True,\n",
       "                                                       random_state=1))],\n",
       "                   final_estimator=AdaBoostClassifier(random_state=1))"
      ]
     },
     "execution_count": 97,
     "metadata": {},
     "output_type": "execute_result"
    }
   ],
   "source": [
    "estimators = [\n",
    "    (\"AdaBoost\", ab_classifier),\n",
    "    (\"Gradient Boosting\", gbc_tuned),\n",
    "    (\"Random Forest\", rf_tuned),\n",
    "]\n",
    "\n",
    "final_estimator = ab_classifier\n",
    "\n",
    "## Let's define Stacking Classifier\n",
    "stacking_classifier = StackingClassifier(estimators=estimators,final_estimator=final_estimator)\n",
    "\n",
    "## Let's fit Stacking Classifier on the train data\n",
    "stacking_classifier.fit(X_train,y_train) "
   ]
  },
  {
   "cell_type": "markdown",
   "id": "greek-jefferson",
   "metadata": {
    "id": "greek-jefferson"
   },
   "source": [
    "#### Checking model performance on training set"
   ]
  },
  {
   "cell_type": "code",
   "execution_count": 98,
   "id": "under-brazilian",
   "metadata": {
    "id": "under-brazilian"
   },
   "outputs": [
    {
     "data": {
      "image/png": "[encoded data removed]",
      "text/plain": [
       "<Figure size 432x288 with 2 Axes>"
      ]
     },
     "metadata": {
      "needs_background": "light"
     },
     "output_type": "display_data"
    }
   ],
   "source": [
    "## Let's create confusion matrix for train data\n",
    "confusion_matrix_sklearn(stacking_classifier,X_train,y_train)"
   ]
  },
  {
   "cell_type": "code",
   "execution_count": 99,
   "id": "apparent-greenhouse",
   "metadata": {
    "id": "apparent-greenhouse"
   },
   "outputs": [
    {
     "data": {
      "text/html": [
       "<div>\n",
       "<style scoped>\n",
       "    .dataframe tbody tr th:only-of-type {\n",
       "        vertical-align: middle;\n",
       "    }\n",
       "\n",
       "    .dataframe tbody tr th {\n",
       "        vertical-align: top;\n",
       "    }\n",
       "\n",
       "    .dataframe thead th {\n",
       "        text-align: right;\n",
       "    }\n",
       "</style>\n",
       "<table border=\"1\" class=\"dataframe\">\n",
       "  <thead>\n",
       "    <tr style=\"text-align: right;\">\n",
       "      <th></th>\n",
       "      <th>Accuracy</th>\n",
       "      <th>Recall</th>\n",
       "      <th>Precision</th>\n",
       "      <th>F1</th>\n",
       "    </tr>\n",
       "  </thead>\n",
       "  <tbody>\n",
       "    <tr>\n",
       "      <th>0</th>\n",
       "      <td>0.771137</td>\n",
       "      <td>0.859062</td>\n",
       "      <td>0.809844</td>\n",
       "      <td>0.833727</td>\n",
       "    </tr>\n",
       "  </tbody>\n",
       "</table>\n",
       "</div>"
      ],
      "text/plain": [
       "   Accuracy    Recall  Precision        F1\n",
       "0  0.771137  0.859062   0.809844  0.833727"
      ]
     },
     "execution_count": 99,
     "metadata": {},
     "output_type": "execute_result"
    }
   ],
   "source": [
    "## Let's check performance on train data\n",
    "stacking_classifier_model_train_perf = model_performance_classification_sklearn(stacking_classifier,X_train,y_train) \n",
    "stacking_classifier_model_train_perf\n",
    " "
   ]
  },
  {
   "cell_type": "markdown",
   "id": "corrected-agency",
   "metadata": {
    "id": "corrected-agency"
   },
   "source": [
    "#### Checking model performance on test set"
   ]
  },
  {
   "cell_type": "code",
   "execution_count": 100,
   "id": "empty-agent",
   "metadata": {
    "id": "empty-agent"
   },
   "outputs": [
    {
     "data": {
      "image/png": "[encoded data removed]",
      "text/plain": [
       "<Figure size 432x288 with 2 Axes>"
      ]
     },
     "metadata": {
      "needs_background": "light"
     },
     "output_type": "display_data"
    }
   ],
   "source": [
    "## Let's create confusion matrix for test data\n",
    "confusion_matrix_sklearn(stacking_classifier,X_test,y_test)"
   ]
  },
  {
   "cell_type": "code",
   "execution_count": 101,
   "id": "quantitative-neighborhood",
   "metadata": {
    "id": "quantitative-neighborhood"
   },
   "outputs": [
    {
     "data": {
      "text/html": [
       "<div>\n",
       "<style scoped>\n",
       "    .dataframe tbody tr th:only-of-type {\n",
       "        vertical-align: middle;\n",
       "    }\n",
       "\n",
       "    .dataframe tbody tr th {\n",
       "        vertical-align: top;\n",
       "    }\n",
       "\n",
       "    .dataframe thead th {\n",
       "        text-align: right;\n",
       "    }\n",
       "</style>\n",
       "<table border=\"1\" class=\"dataframe\">\n",
       "  <thead>\n",
       "    <tr style=\"text-align: right;\">\n",
       "      <th></th>\n",
       "      <th>Accuracy</th>\n",
       "      <th>Recall</th>\n",
       "      <th>Precision</th>\n",
       "      <th>F1</th>\n",
       "    </tr>\n",
       "  </thead>\n",
       "  <tbody>\n",
       "    <tr>\n",
       "      <th>0</th>\n",
       "      <td>0.743197</td>\n",
       "      <td>0.84192</td>\n",
       "      <td>0.788045</td>\n",
       "      <td>0.814092</td>\n",
       "    </tr>\n",
       "  </tbody>\n",
       "</table>\n",
       "</div>"
      ],
      "text/plain": [
       "   Accuracy   Recall  Precision        F1\n",
       "0  0.743197  0.84192   0.788045  0.814092"
      ]
     },
     "execution_count": 101,
     "metadata": {},
     "output_type": "execute_result"
    }
   ],
   "source": [
    "## Let's check performance for test data\n",
    "stacking_classifier_model_test_perf = model_performance_classification_sklearn(stacking_classifier,X_test,y_test)\n",
    "stacking_classifier_model_test_perf\n"
   ]
  },
  {
   "cell_type": "markdown",
   "id": "mechanical-clarity",
   "metadata": {
    "id": "mechanical-clarity"
   },
   "source": [
    "### Conclusion"
   ]
  },
  {
   "cell_type": "markdown",
   "id": "royal-panel",
   "metadata": {
    "id": "royal-panel"
   },
   "source": [
    "**Comparing all models**"
   ]
  },
  {
   "cell_type": "code",
   "execution_count": 102,
   "id": "future-irrigation",
   "metadata": {
    "id": "future-irrigation"
   },
   "outputs": [
    {
     "name": "stdout",
     "output_type": "stream",
     "text": [
      "Training performance comparison:\n"
     ]
    },
    {
     "data": {
      "text/html": [
       "<div>\n",
       "<style scoped>\n",
       "    .dataframe tbody tr th:only-of-type {\n",
       "        vertical-align: middle;\n",
       "    }\n",
       "\n",
       "    .dataframe tbody tr th {\n",
       "        vertical-align: top;\n",
       "    }\n",
       "\n",
       "    .dataframe thead th {\n",
       "        text-align: right;\n",
       "    }\n",
       "</style>\n",
       "<table border=\"1\" class=\"dataframe\">\n",
       "  <thead>\n",
       "    <tr style=\"text-align: right;\">\n",
       "      <th></th>\n",
       "      <th>Decision Tree</th>\n",
       "      <th>Tuned Decision Tree</th>\n",
       "      <th>Bagging Classifier</th>\n",
       "      <th>Tuned Bagging Classifier</th>\n",
       "      <th>Random Forest</th>\n",
       "      <th>Tuned Random Forest</th>\n",
       "      <th>Adaboost Classifier</th>\n",
       "      <th>Tuned Adaboost Classifier</th>\n",
       "      <th>Gradient Boost Classifier</th>\n",
       "      <th>Tuned Gradient Boost Classifier</th>\n",
       "      <th>Stacking Classifier</th>\n",
       "    </tr>\n",
       "  </thead>\n",
       "  <tbody>\n",
       "    <tr>\n",
       "      <th>Accuracy</th>\n",
       "      <td>0.712548</td>\n",
       "      <td>0.712548</td>\n",
       "      <td>0.985198</td>\n",
       "      <td>0.995627</td>\n",
       "      <td>0.999944</td>\n",
       "      <td>0.776575</td>\n",
       "      <td>0.738226</td>\n",
       "      <td>0.729199</td>\n",
       "      <td>0.758802</td>\n",
       "      <td>0.759027</td>\n",
       "      <td>0.771137</td>\n",
       "    </tr>\n",
       "    <tr>\n",
       "      <th>Recall</th>\n",
       "      <td>0.931923</td>\n",
       "      <td>0.931923</td>\n",
       "      <td>0.985982</td>\n",
       "      <td>0.999916</td>\n",
       "      <td>0.999916</td>\n",
       "      <td>0.909511</td>\n",
       "      <td>0.887182</td>\n",
       "      <td>0.889616</td>\n",
       "      <td>0.883740</td>\n",
       "      <td>0.882649</td>\n",
       "      <td>0.859062</td>\n",
       "    </tr>\n",
       "    <tr>\n",
       "      <th>Precision</th>\n",
       "      <td>0.720067</td>\n",
       "      <td>0.720067</td>\n",
       "      <td>0.991810</td>\n",
       "      <td>0.993577</td>\n",
       "      <td>1.000000</td>\n",
       "      <td>0.788459</td>\n",
       "      <td>0.760688</td>\n",
       "      <td>0.750939</td>\n",
       "      <td>0.783042</td>\n",
       "      <td>0.783824</td>\n",
       "      <td>0.809844</td>\n",
       "    </tr>\n",
       "    <tr>\n",
       "      <th>F1</th>\n",
       "      <td>0.812411</td>\n",
       "      <td>0.812411</td>\n",
       "      <td>0.988887</td>\n",
       "      <td>0.996737</td>\n",
       "      <td>0.999958</td>\n",
       "      <td>0.844670</td>\n",
       "      <td>0.819080</td>\n",
       "      <td>0.814416</td>\n",
       "      <td>0.830349</td>\n",
       "      <td>0.830306</td>\n",
       "      <td>0.833727</td>\n",
       "    </tr>\n",
       "  </tbody>\n",
       "</table>\n",
       "</div>"
      ],
      "text/plain": [
       "           Decision Tree  Tuned Decision Tree  Bagging Classifier  \\\n",
       "Accuracy        0.712548             0.712548            0.985198   \n",
       "Recall          0.931923             0.931923            0.985982   \n",
       "Precision       0.720067             0.720067            0.991810   \n",
       "F1              0.812411             0.812411            0.988887   \n",
       "\n",
       "           Tuned Bagging Classifier  Random Forest  Tuned Random Forest  \\\n",
       "Accuracy                   0.995627       0.999944             0.776575   \n",
       "Recall                     0.999916       0.999916             0.909511   \n",
       "Precision                  0.993577       1.000000             0.788459   \n",
       "F1                         0.996737       0.999958             0.844670   \n",
       "\n",
       "           Adaboost Classifier  Tuned Adaboost Classifier  \\\n",
       "Accuracy              0.738226                   0.729199   \n",
       "Recall                0.887182                   0.889616   \n",
       "Precision             0.760688                   0.750939   \n",
       "F1                    0.819080                   0.814416   \n",
       "\n",
       "           Gradient Boost Classifier  Tuned Gradient Boost Classifier  \\\n",
       "Accuracy                    0.758802                         0.759027   \n",
       "Recall                      0.883740                         0.882649   \n",
       "Precision                   0.783042                         0.783824   \n",
       "F1                          0.830349                         0.830306   \n",
       "\n",
       "           Stacking Classifier  \n",
       "Accuracy              0.771137  \n",
       "Recall                0.859062  \n",
       "Precision             0.809844  \n",
       "F1                    0.833727  "
      ]
     },
     "execution_count": 102,
     "metadata": {},
     "output_type": "execute_result"
    }
   ],
   "source": [
    "# training performance comparison\n",
    "\n",
    "models_train_comp_df = pd.concat(\n",
    "    [\n",
    "        dtree_estimator_model_train_perf.T,\n",
    "        dtree_estimator_model_train_perf.T,\n",
    "        bagging_classifier_model_train_perf.T,\n",
    "        bagging_estimator_tuned_model_train_perf.T,\n",
    "        rf_estimator_model_train_perf.T,\n",
    "        rf_tuned_model_train_perf.T,\n",
    "        ab_classifier_model_train_perf.T,\n",
    "        abc_tuned_model_train_perf.T,\n",
    "        gb_classifier_model_train_perf.T,\n",
    "        gbc_tuned_model_train_perf.T,\n",
    "        stacking_classifier_model_train_perf.T,\n",
    "    ],\n",
    "    axis=1,\n",
    ")\n",
    "models_train_comp_df.columns = [\n",
    "    \"Decision Tree\",\n",
    "    \"Tuned Decision Tree\",\n",
    "    \"Bagging Classifier\",\n",
    "    \"Tuned Bagging Classifier\",\n",
    "    \"Random Forest\",\n",
    "    \"Tuned Random Forest\",\n",
    "    \"Adaboost Classifier\",\n",
    "    \"Tuned Adaboost Classifier\",\n",
    "    \"Gradient Boost Classifier\",\n",
    "    \"Tuned Gradient Boost Classifier\",\n",
    "    \"Stacking Classifier\",\n",
    "]\n",
    "print(\"Training performance comparison:\")\n",
    "models_train_comp_df"
   ]
  },
  {
   "cell_type": "code",
   "execution_count": 105,
   "id": "collective-fireplace",
   "metadata": {
    "id": "collective-fireplace"
   },
   "outputs": [
    {
     "name": "stdout",
     "output_type": "stream",
     "text": [
      "Test performance comparison:\n"
     ]
    },
    {
     "data": {
      "text/html": [
       "<div>\n",
       "<style scoped>\n",
       "    .dataframe tbody tr th:only-of-type {\n",
       "        vertical-align: middle;\n",
       "    }\n",
       "\n",
       "    .dataframe tbody tr th {\n",
       "        vertical-align: top;\n",
       "    }\n",
       "\n",
       "    .dataframe thead th {\n",
       "        text-align: right;\n",
       "    }\n",
       "</style>\n",
       "<table border=\"1\" class=\"dataframe\">\n",
       "  <thead>\n",
       "    <tr style=\"text-align: right;\">\n",
       "      <th></th>\n",
       "      <th>Test Decision Tree</th>\n",
       "      <th>Test Tuned Decision Tree</th>\n",
       "      <th>Test Bagging Classifier</th>\n",
       "      <th>Test Tuned Bagging Classifier</th>\n",
       "      <th>Test Random Forest</th>\n",
       "      <th>Test Tuned Random Forest</th>\n",
       "      <th>Test Adaboost Classifier</th>\n",
       "      <th>Test Tuned Adaboost Classifier</th>\n",
       "      <th>Test Gradient Boost Classifier</th>\n",
       "      <th>Test Tuned Gradient Boost Classifier</th>\n",
       "      <th>Test Stacking Classifier</th>\n",
       "    </tr>\n",
       "  </thead>\n",
       "  <tbody>\n",
       "    <tr>\n",
       "      <th>Accuracy</th>\n",
       "      <td>0.664835</td>\n",
       "      <td>0.706567</td>\n",
       "      <td>0.691523</td>\n",
       "      <td>0.727891</td>\n",
       "      <td>0.721088</td>\n",
       "      <td>0.742805</td>\n",
       "      <td>0.734301</td>\n",
       "      <td>0.723705</td>\n",
       "      <td>0.744767</td>\n",
       "      <td>0.744505</td>\n",
       "      <td>0.743197</td>\n",
       "    </tr>\n",
       "    <tr>\n",
       "      <th>Recall</th>\n",
       "      <td>0.742801</td>\n",
       "      <td>0.930852</td>\n",
       "      <td>0.764153</td>\n",
       "      <td>0.898727</td>\n",
       "      <td>0.840744</td>\n",
       "      <td>0.883643</td>\n",
       "      <td>0.885015</td>\n",
       "      <td>0.890304</td>\n",
       "      <td>0.876004</td>\n",
       "      <td>0.874045</td>\n",
       "      <td>0.841920</td>\n",
       "    </tr>\n",
       "    <tr>\n",
       "      <th>Precision</th>\n",
       "      <td>0.752232</td>\n",
       "      <td>0.715447</td>\n",
       "      <td>0.771711</td>\n",
       "      <td>0.745895</td>\n",
       "      <td>0.764926</td>\n",
       "      <td>0.766786</td>\n",
       "      <td>0.757799</td>\n",
       "      <td>0.745449</td>\n",
       "      <td>0.772366</td>\n",
       "      <td>0.773042</td>\n",
       "      <td>0.788045</td>\n",
       "    </tr>\n",
       "    <tr>\n",
       "      <th>F1</th>\n",
       "      <td>0.747487</td>\n",
       "      <td>0.809058</td>\n",
       "      <td>0.767913</td>\n",
       "      <td>0.815210</td>\n",
       "      <td>0.801045</td>\n",
       "      <td>0.821078</td>\n",
       "      <td>0.816481</td>\n",
       "      <td>0.811462</td>\n",
       "      <td>0.820927</td>\n",
       "      <td>0.820447</td>\n",
       "      <td>0.814092</td>\n",
       "    </tr>\n",
       "  </tbody>\n",
       "</table>\n",
       "</div>"
      ],
      "text/plain": [
       "           Test Decision Tree  Test Tuned Decision Tree  \\\n",
       "Accuracy             0.664835                  0.706567   \n",
       "Recall               0.742801                  0.930852   \n",
       "Precision            0.752232                  0.715447   \n",
       "F1                   0.747487                  0.809058   \n",
       "\n",
       "           Test Bagging Classifier  Test Tuned Bagging Classifier  \\\n",
       "Accuracy                  0.691523                       0.727891   \n",
       "Recall                    0.764153                       0.898727   \n",
       "Precision                 0.771711                       0.745895   \n",
       "F1                        0.767913                       0.815210   \n",
       "\n",
       "           Test Random Forest  Test Tuned Random Forest  \\\n",
       "Accuracy             0.721088                  0.742805   \n",
       "Recall               0.840744                  0.883643   \n",
       "Precision            0.764926                  0.766786   \n",
       "F1                   0.801045                  0.821078   \n",
       "\n",
       "           Test Adaboost Classifier  Test Tuned Adaboost Classifier  \\\n",
       "Accuracy                   0.734301                        0.723705   \n",
       "Recall                     0.885015                        0.890304   \n",
       "Precision                  0.757799                        0.745449   \n",
       "F1                         0.816481                        0.811462   \n",
       "\n",
       "           Test Gradient Boost Classifier  \\\n",
       "Accuracy                         0.744767   \n",
       "Recall                           0.876004   \n",
       "Precision                        0.772366   \n",
       "F1                               0.820927   \n",
       "\n",
       "           Test Tuned Gradient Boost Classifier  Test Stacking Classifier  \n",
       "Accuracy                               0.744505                  0.743197  \n",
       "Recall                                 0.874045                  0.841920  \n",
       "Precision                              0.773042                  0.788045  \n",
       "F1                                     0.820447                  0.814092  "
      ]
     },
     "execution_count": 105,
     "metadata": {},
     "output_type": "execute_result"
    }
   ],
   "source": [
    "# testing performance comparison\n",
    "## Complete the code to check performance for test data\n",
    "models_test_comp_df = pd.concat(\n",
    "    [\n",
    "        decision_tree_perf_test.T,\n",
    "        dtree_estimator_model_test_perf.T,\n",
    "        bagging_classifier_model_test_perf.T,\n",
    "        bagging_estimator_tuned_model_test_perf.T,\n",
    "        rf_estimator_model_test_perf.T,\n",
    "        rf_tuned_model_test_perf.T,\n",
    "        ab_classifier_model_test_perf.T,\n",
    "        abc_tuned_model_test_perf.T,\n",
    "        gb_classifier_model_test_perf.T,\n",
    "        gbc_tuned_model_test_perf.T,\n",
    "        stacking_classifier_model_test_perf.T,\n",
    "    ],\n",
    "    axis=1,\n",
    ")\n",
    "models_test_comp_df.columns = [\n",
    "    \"Test Decision Tree\",\n",
    "    \"Test Tuned Decision Tree\",\n",
    "    \"Test Bagging Classifier\",\n",
    "    \"Test Tuned Bagging Classifier\",\n",
    "    \"Test Random Forest\",\n",
    "    \"Test Tuned Random Forest\",\n",
    "    \"Test Adaboost Classifier\",\n",
    "    \"Test Tuned Adaboost Classifier\",\n",
    "    \"Test Gradient Boost Classifier\",\n",
    "    \"Test Tuned Gradient Boost Classifier\",\n",
    "    \"Test Stacking Classifier\",\n",
    "]\n",
    "print(\"Test performance comparison:\")\n",
    "models_test_comp_df"
   ]
  },
  {
   "cell_type": "markdown",
   "id": "stone-venezuela",
   "metadata": {
    "id": "stone-venezuela"
   },
   "source": [
    "### Important features of the final model"
   ]
  },
  {
   "cell_type": "code",
   "execution_count": 104,
   "id": "forty-mayor",
   "metadata": {
    "id": "forty-mayor"
   },
   "outputs": [
    {
     "data": {
      "image/png": "[encoded data removed]",
      "text/plain": [
       "<Figure size 864x864 with 1 Axes>"
      ]
     },
     "metadata": {
      "needs_background": "light"
     },
     "output_type": "display_data"
    }
   ],
   "source": [
    "feature_names = X_train.columns\n",
    "importances = rf_tuned.feature_importances_\n",
    "indices = np.argsort(importances)\n",
    "\n",
    "plt.figure(figsize=(12, 12))\n",
    "plt.title(\"Feature Importances\")\n",
    "plt.barh(range(len(indices)), importances[indices], color=\"violet\", align=\"center\")\n",
    "plt.yticks(range(len(indices)), [feature_names[i] for i in indices])\n",
    "plt.xlabel(\"Relative Importance\")\n",
    "plt.show()"
   ]
  },
  {
   "cell_type": "markdown",
   "id": "b1fc4749",
   "metadata": {},
   "source": [
    "* Looking at the feature importance of the Random Forest model, the top three important features to look for while certifying a visa are -Education of the employee, Job experience, and Prevailing Wage."
   ]
  },
  {
   "cell_type": "markdown",
   "id": "congressional-knock",
   "metadata": {
    "id": "congressional-knock"
   },
   "source": [
    "### Recommendations"
   ]
  },
  {
   "cell_type": "markdown",
   "id": "a277d8c1",
   "metadata": {},
   "source": [
    "**The profile of the applicants for whom the visa status can be approved:**\n",
    "\n",
    "**Primary information to look at:**\n",
    "- `Education level` - At least has a Bachelor's degree - Master's and doctorate are preferred.\n",
    "- `Job Experience` - Should have some job experience. \n",
    "- `Prevailing wage` - The median prevailing wage of the employees for whom the visa got certified is around 72k. \n",
    "\n",
    "\n",
    "**Secondary information to look at:**\n",
    "\n",
    "- `Unit of Wage`    - Applicants having a yearly unit of wage. \n",
    "- `Continent`       - Ideally the nationality and ethnicity of an applicant shouldn't matter to work in a country but previously it has been observed that applicants from Europe, Africa, and Asia have higher chances of visa certification.\n",
    "- `Region of employment` - Our analysis suggests that the applications to work in the Mid-West region have more chances of visa approval. The approvals can also be made based on requirement of talent, from our analysis we see that:\n",
    "    * The requirement for the applicants who have passed high school is most in the South region, followed by Northeast region.\n",
    "    * The requirement for Bachelor's is mostly in South region, followed by West region.\n",
    "    * The requirement for Master's is most in Northeast region, followed by South region.\n",
    "    * The requirement for Doctorate's is mostly in West region, followed by Northeast region.\n",
    "    \n",
    "    \n",
    "**The profile of the applicants for whom the visa status can be denied:**\n",
    "\n",
    "**Primary information to look at:**\n",
    "- `Education level` - Doesn't have any degree and has completed high school.\n",
    "- `Job Experience` - Doesn't have any job experience. \n",
    "- `Prevailing wage` - The median prevailing wage of the employees for whom the visa got certified is around 65k. \n",
    "\n",
    "\n",
    "**Secondary information to look at:**\n",
    "\n",
    "- `Unit of Wage`    - Applicants having an hourly unit of wage. \n",
    "- `Continent`       - Ideally the nationality and ethnicity of an applicant shouldn't matter to work in a country but previously it has been observed that applicants from South America, North America, and Oceania have higher chances of visa applications getting denied.\n",
    "\n",
    "-----------\n",
    "\n",
    "* Additional information of employers and employees can be collected to gain better insights. Information such as:\n",
    "   * Employers: Information about  the wage they are offering to the applicant, Sector in which company operates in, etc\n",
    "   * Employee's: Specialization in their educational degree, Number of years of experience, etc"
   ]
  }
 ],
 "metadata": {
  "colab": {
   "name": "ET_EasyVisa_Low Code.ipynb",
   "provenance": []
  },
  "kernelspec": {
   "display_name": "Python 3 (ipykernel)",
   "language": "python",
   "name": "python3"
  },
  "language_info": {
   "codemirror_mode": {
    "name": "ipython",
    "version": 3
   },
   "file_extension": ".py",
   "mimetype": "text/x-python",
   "name": "python",
   "nbconvert_exporter": "python",
   "pygments_lexer": "ipython3",
   "version": "3.9.7"
  }
 },
 "nbformat": 4,
 "nbformat_minor": 5
}
